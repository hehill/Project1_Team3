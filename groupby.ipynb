{
 "cells": [
  {
   "cell_type": "code",
   "execution_count": 83,
   "source": [
    "%matplotlib inline\r\n",
    "import matplotlib as mpl\r\n",
    "import matplotlib.pyplot as plt\r\n",
    "import numpy as np\r\n",
    "import pandas as pd\r\n",
    "import scipy.stats as st\r\n",
    "from scipy.stats import linregress\r\n",
    "from scipy.stats import sem\r\n",
    "\r\n",
    "df_path = \"Kaggle_data.xlsx\""
   ],
   "outputs": [],
   "metadata": {}
  },
  {
   "cell_type": "code",
   "execution_count": 84,
   "source": [
    "df = pd.read_excel(\"Kaggle\\Kaggle_data.xlsx\")\r\n",
    "df.head()"
   ],
   "outputs": [
    {
     "output_type": "execute_result",
     "data": {
      "text/html": [
       "<div>\n",
       "<style scoped>\n",
       "    .dataframe tbody tr th:only-of-type {\n",
       "        vertical-align: middle;\n",
       "    }\n",
       "\n",
       "    .dataframe tbody tr th {\n",
       "        vertical-align: top;\n",
       "    }\n",
       "\n",
       "    .dataframe thead th {\n",
       "        text-align: right;\n",
       "    }\n",
       "</style>\n",
       "<table border=\"1\" class=\"dataframe\">\n",
       "  <thead>\n",
       "    <tr style=\"text-align: right;\">\n",
       "      <th></th>\n",
       "      <th>I am currently employed at least part-time</th>\n",
       "      <th>I identify as having a mental illness</th>\n",
       "      <th>Education</th>\n",
       "      <th>I have my own computer separate from a smart phone</th>\n",
       "      <th>I have been hospitalized before for my mental illness</th>\n",
       "      <th>How many days were you hospitalized for your mental illness</th>\n",
       "      <th>I am legally disabled</th>\n",
       "      <th>I have my regular access to the internet</th>\n",
       "      <th>I live with my parents</th>\n",
       "      <th>I have a gap in my resume</th>\n",
       "      <th>...</th>\n",
       "      <th>Obsessive thinking</th>\n",
       "      <th>Mood swings</th>\n",
       "      <th>Panic attacks</th>\n",
       "      <th>Compulsive behavior</th>\n",
       "      <th>Tiredness</th>\n",
       "      <th>Age</th>\n",
       "      <th>Gender</th>\n",
       "      <th>Household Income</th>\n",
       "      <th>Region</th>\n",
       "      <th>Device Type</th>\n",
       "    </tr>\n",
       "  </thead>\n",
       "  <tbody>\n",
       "    <tr>\n",
       "      <th>0</th>\n",
       "      <td>0</td>\n",
       "      <td>0</td>\n",
       "      <td>High School or GED</td>\n",
       "      <td>0</td>\n",
       "      <td>0</td>\n",
       "      <td>0.0</td>\n",
       "      <td>0</td>\n",
       "      <td>1</td>\n",
       "      <td>0</td>\n",
       "      <td>1</td>\n",
       "      <td>...</td>\n",
       "      <td>1.0</td>\n",
       "      <td>0.0</td>\n",
       "      <td>1.0</td>\n",
       "      <td>0.0</td>\n",
       "      <td>0.0</td>\n",
       "      <td>30-44</td>\n",
       "      <td>Male</td>\n",
       "      <td>$25,000-$49,999</td>\n",
       "      <td>Mountain</td>\n",
       "      <td>Android Phone / Tablet</td>\n",
       "    </tr>\n",
       "    <tr>\n",
       "      <th>1</th>\n",
       "      <td>1</td>\n",
       "      <td>1</td>\n",
       "      <td>Some Phd</td>\n",
       "      <td>1</td>\n",
       "      <td>0</td>\n",
       "      <td>0.0</td>\n",
       "      <td>0</td>\n",
       "      <td>1</td>\n",
       "      <td>0</td>\n",
       "      <td>0</td>\n",
       "      <td>...</td>\n",
       "      <td>0.0</td>\n",
       "      <td>0.0</td>\n",
       "      <td>1.0</td>\n",
       "      <td>0.0</td>\n",
       "      <td>1.0</td>\n",
       "      <td>18-29</td>\n",
       "      <td>Male</td>\n",
       "      <td>$50,000-$74,999</td>\n",
       "      <td>East South Central</td>\n",
       "      <td>MacOS Desktop / Laptop</td>\n",
       "    </tr>\n",
       "    <tr>\n",
       "      <th>2</th>\n",
       "      <td>1</td>\n",
       "      <td>0</td>\n",
       "      <td>Completed Undergraduate</td>\n",
       "      <td>1</td>\n",
       "      <td>0</td>\n",
       "      <td>0.0</td>\n",
       "      <td>0</td>\n",
       "      <td>1</td>\n",
       "      <td>0</td>\n",
       "      <td>0</td>\n",
       "      <td>...</td>\n",
       "      <td>0.0</td>\n",
       "      <td>0.0</td>\n",
       "      <td>0.0</td>\n",
       "      <td>0.0</td>\n",
       "      <td>0.0</td>\n",
       "      <td>30-44</td>\n",
       "      <td>Male</td>\n",
       "      <td>$150,000-$174,999</td>\n",
       "      <td>Pacific</td>\n",
       "      <td>MacOS Desktop / Laptop</td>\n",
       "    </tr>\n",
       "    <tr>\n",
       "      <th>3</th>\n",
       "      <td>0</td>\n",
       "      <td>0</td>\n",
       "      <td>Some Undergraduate</td>\n",
       "      <td>1</td>\n",
       "      <td>0</td>\n",
       "      <td>NaN</td>\n",
       "      <td>0</td>\n",
       "      <td>1</td>\n",
       "      <td>1</td>\n",
       "      <td>1</td>\n",
       "      <td>...</td>\n",
       "      <td>0.0</td>\n",
       "      <td>0.0</td>\n",
       "      <td>0.0</td>\n",
       "      <td>0.0</td>\n",
       "      <td>0.0</td>\n",
       "      <td>30-44</td>\n",
       "      <td>Male</td>\n",
       "      <td>$25,000-$49,999</td>\n",
       "      <td>New England</td>\n",
       "      <td>Windows Desktop / Laptop</td>\n",
       "    </tr>\n",
       "    <tr>\n",
       "      <th>4</th>\n",
       "      <td>1</td>\n",
       "      <td>1</td>\n",
       "      <td>Completed Undergraduate</td>\n",
       "      <td>1</td>\n",
       "      <td>1</td>\n",
       "      <td>35.0</td>\n",
       "      <td>1</td>\n",
       "      <td>1</td>\n",
       "      <td>0</td>\n",
       "      <td>1</td>\n",
       "      <td>...</td>\n",
       "      <td>1.0</td>\n",
       "      <td>1.0</td>\n",
       "      <td>1.0</td>\n",
       "      <td>1.0</td>\n",
       "      <td>1.0</td>\n",
       "      <td>30-44</td>\n",
       "      <td>Male</td>\n",
       "      <td>$25,000-$49,999</td>\n",
       "      <td>East North Central</td>\n",
       "      <td>iOS Phone / Tablet</td>\n",
       "    </tr>\n",
       "  </tbody>\n",
       "</table>\n",
       "<p>5 rows × 31 columns</p>\n",
       "</div>"
      ],
      "text/plain": [
       "   I am currently employed at least part-time  \\\n",
       "0                                           0   \n",
       "1                                           1   \n",
       "2                                           1   \n",
       "3                                           0   \n",
       "4                                           1   \n",
       "\n",
       "   I identify as having a mental illness                Education  \\\n",
       "0                                      0       High School or GED   \n",
       "1                                      1                 Some Phd   \n",
       "2                                      0  Completed Undergraduate   \n",
       "3                                      0       Some Undergraduate   \n",
       "4                                      1  Completed Undergraduate   \n",
       "\n",
       "   I have my own computer separate from a smart phone  \\\n",
       "0                                                  0    \n",
       "1                                                  1    \n",
       "2                                                  1    \n",
       "3                                                  1    \n",
       "4                                                  1    \n",
       "\n",
       "   I have been hospitalized before for my mental illness  \\\n",
       "0                                                  0       \n",
       "1                                                  0       \n",
       "2                                                  0       \n",
       "3                                                  0       \n",
       "4                                                  1       \n",
       "\n",
       "   How many days were you hospitalized for your mental illness  \\\n",
       "0                                                0.0             \n",
       "1                                                0.0             \n",
       "2                                                0.0             \n",
       "3                                                NaN             \n",
       "4                                               35.0             \n",
       "\n",
       "   I am legally disabled  I have my regular access to the internet  \\\n",
       "0                      0                                         1   \n",
       "1                      0                                         1   \n",
       "2                      0                                         1   \n",
       "3                      0                                         1   \n",
       "4                      1                                         1   \n",
       "\n",
       "   I live with my parents  I have a gap in my resume  ...  Obsessive thinking  \\\n",
       "0                       0                          1  ...                 1.0   \n",
       "1                       0                          0  ...                 0.0   \n",
       "2                       0                          0  ...                 0.0   \n",
       "3                       1                          1  ...                 0.0   \n",
       "4                       0                          1  ...                 1.0   \n",
       "\n",
       "   Mood swings  Panic attacks  Compulsive behavior  Tiredness    Age  Gender  \\\n",
       "0          0.0            1.0                  0.0        0.0  30-44    Male   \n",
       "1          0.0            1.0                  0.0        1.0  18-29    Male   \n",
       "2          0.0            0.0                  0.0        0.0  30-44    Male   \n",
       "3          0.0            0.0                  0.0        0.0  30-44    Male   \n",
       "4          1.0            1.0                  1.0        1.0  30-44    Male   \n",
       "\n",
       "    Household Income              Region               Device Type  \n",
       "0    $25,000-$49,999            Mountain    Android Phone / Tablet  \n",
       "1    $50,000-$74,999  East South Central    MacOS Desktop / Laptop  \n",
       "2  $150,000-$174,999             Pacific    MacOS Desktop / Laptop  \n",
       "3    $25,000-$49,999         New England  Windows Desktop / Laptop  \n",
       "4    $25,000-$49,999  East North Central        iOS Phone / Tablet  \n",
       "\n",
       "[5 rows x 31 columns]"
      ]
     },
     "metadata": {},
     "execution_count": 84
    }
   ],
   "metadata": {}
  },
  {
   "cell_type": "code",
   "execution_count": 85,
   "source": [
    "df.columns"
   ],
   "outputs": [
    {
     "output_type": "execute_result",
     "data": {
      "text/plain": [
       "Index(['I am currently employed at least part-time',\n",
       "       'I identify as having a mental illness', 'Education',\n",
       "       'I have my own computer separate from a smart phone',\n",
       "       'I have been hospitalized before for my mental illness',\n",
       "       'How many days were you hospitalized for your mental illness',\n",
       "       'I am legally disabled', 'I have my regular access to the internet',\n",
       "       'I live with my parents', 'I have a gap in my resume',\n",
       "       'Total length of any gaps in my resume in months.',\n",
       "       'Annual income (including any social welfare programs) in USD',\n",
       "       'I am unemployed', 'I read outside of work and school',\n",
       "       'Annual income from social welfare programs', 'I receive food stamps',\n",
       "       'I am on section 8 housing',\n",
       "       'How many times were you hospitalized for your mental illness',\n",
       "       'Lack of concentration', 'Anxiety', 'Depression', 'Obsessive thinking',\n",
       "       'Mood swings', 'Panic attacks', 'Compulsive behavior', 'Tiredness',\n",
       "       'Age', 'Gender', 'Household Income', 'Region', 'Device Type'],\n",
       "      dtype='object')"
      ]
     },
     "metadata": {},
     "execution_count": 85
    }
   ],
   "metadata": {}
  },
  {
   "cell_type": "code",
   "execution_count": 94,
   "source": [
    "education_unemployed_sum  = df[[\"Education\",\"I am unemployed\"]].groupby(\"Education\").sum()\r\n",
    "education_unemployed_count = df[[\"Education\",\"I am unemployed\"]].groupby(\"Education\").count()\r\n",
    "print(education_unemployed_count)\r\n",
    "education_unemployed_percentage = education_unemployed_sum / education_unemployed_count\r\n",
    "edu_lst_unord = education_unemployed_percentage.index\r\n",
    "edu_lst_unord"
   ],
   "outputs": [
    {
     "output_type": "stream",
     "name": "stdout",
     "text": [
      "                         I am unemployed\n",
      "Education                               \n",
      "Completed Masters                     49\n",
      "Completed Phd                         10\n",
      "Completed Undergraduate              100\n",
      "High School or GED                    63\n",
      "Some Phd                               8\n",
      "Some Undergraduate                    82\n",
      "Some highschool                       10\n",
      "Some Masters                          12\n"
     ]
    },
    {
     "output_type": "execute_result",
     "data": {
      "text/plain": [
       "Index(['Completed Masters', 'Completed Phd', 'Completed Undergraduate',\n",
       "       'High School or GED', 'Some Phd', 'Some Undergraduate',\n",
       "       'Some highschool', 'Some Masters'],\n",
       "      dtype='object', name='Education')"
      ]
     },
     "metadata": {},
     "execution_count": 94
    }
   ],
   "metadata": {}
  },
  {
   "cell_type": "code",
   "execution_count": 88,
   "source": [
    "edu_lst_unord[7]"
   ],
   "outputs": [
    {
     "output_type": "execute_result",
     "data": {
      "text/plain": [
       "'Some\\xa0Masters'"
      ]
     },
     "metadata": {},
     "execution_count": 88
    }
   ],
   "metadata": {}
  },
  {
   "cell_type": "code",
   "execution_count": 89,
   "source": [
    "df_mapping = pd.DataFrame({\r\n",
    "    'Education': [\"Some highschool\", \"High School or GED\", \"Some Undergraduate\", \"Completed Undergraduate\",'Some\\xa0Masters', \"Completed Masters\", \"Some Phd\", \"Completed Phd\"]\r\n",
    "})\r\n",
    "\r\n",
    "sort_mapping = df_mapping.reset_index().set_index(\"Education\")\r\n",
    "sort_mapping"
   ],
   "outputs": [
    {
     "output_type": "execute_result",
     "data": {
      "text/html": [
       "<div>\n",
       "<style scoped>\n",
       "    .dataframe tbody tr th:only-of-type {\n",
       "        vertical-align: middle;\n",
       "    }\n",
       "\n",
       "    .dataframe tbody tr th {\n",
       "        vertical-align: top;\n",
       "    }\n",
       "\n",
       "    .dataframe thead th {\n",
       "        text-align: right;\n",
       "    }\n",
       "</style>\n",
       "<table border=\"1\" class=\"dataframe\">\n",
       "  <thead>\n",
       "    <tr style=\"text-align: right;\">\n",
       "      <th></th>\n",
       "      <th>index</th>\n",
       "    </tr>\n",
       "    <tr>\n",
       "      <th>Education</th>\n",
       "      <th></th>\n",
       "    </tr>\n",
       "  </thead>\n",
       "  <tbody>\n",
       "    <tr>\n",
       "      <th>Some highschool</th>\n",
       "      <td>0</td>\n",
       "    </tr>\n",
       "    <tr>\n",
       "      <th>High School or GED</th>\n",
       "      <td>1</td>\n",
       "    </tr>\n",
       "    <tr>\n",
       "      <th>Some Undergraduate</th>\n",
       "      <td>2</td>\n",
       "    </tr>\n",
       "    <tr>\n",
       "      <th>Completed Undergraduate</th>\n",
       "      <td>3</td>\n",
       "    </tr>\n",
       "    <tr>\n",
       "      <th>Some Masters</th>\n",
       "      <td>4</td>\n",
       "    </tr>\n",
       "    <tr>\n",
       "      <th>Completed Masters</th>\n",
       "      <td>5</td>\n",
       "    </tr>\n",
       "    <tr>\n",
       "      <th>Some Phd</th>\n",
       "      <td>6</td>\n",
       "    </tr>\n",
       "    <tr>\n",
       "      <th>Completed Phd</th>\n",
       "      <td>7</td>\n",
       "    </tr>\n",
       "  </tbody>\n",
       "</table>\n",
       "</div>"
      ],
      "text/plain": [
       "                         index\n",
       "Education                     \n",
       "Some highschool              0\n",
       "High School or GED           1\n",
       "Some Undergraduate           2\n",
       "Completed Undergraduate      3\n",
       "Some Masters                 4\n",
       "Completed Masters            5\n",
       "Some Phd                     6\n",
       "Completed Phd                7"
      ]
     },
     "metadata": {},
     "execution_count": 89
    }
   ],
   "metadata": {}
  },
  {
   "cell_type": "code",
   "execution_count": 90,
   "source": [
    "education_unemployed_percentage.reset_index(inplace = True)\r\n",
    "education_unemployed_percentage[\"sort\"] = education_unemployed_percentage[\"Education\"].map(sort_mapping['index'])\r\n",
    "education_unemployed_percentage.sort_values('sort', inplace = True)\r\n",
    "education_unemployed_percentage.drop('sort', axis = 1, inplace = True)\r\n",
    "education_unemployed_percentage.set_index(\"Education\", inplace =True)"
   ],
   "outputs": [],
   "metadata": {}
  },
  {
   "cell_type": "code",
   "execution_count": 92,
   "source": [
    "ed = education_unemployed_percentage.plot(kind = \"bar\")\r\n",
    "plt.xlabel('Education Level', fontsize=10)\r\n",
    "plt.ylabel('Percentage of Unemployment', fontsize=10)\r\n",
    "plt.title('Percentage of Unemployment by Education Level', fontsize=10)\r\n",
    "plt.xticks(fontsize=8)\r\n",
    "for p in ed.patches:\r\n",
    "    width = p.get_width()\r\n",
    "    height = p.get_height()\r\n",
    "    x, y = p.get_xy() \r\n",
    "    ed.annotate(f'{height:.0%}', (x + width/2, y + height*1.02), ha='center')"
   ],
   "outputs": [
    {
     "output_type": "display_data",
     "data": {
      "image/png": "[encoded data removed]",
      "text/plain": [
       "<Figure size 432x288 with 1 Axes>"
      ]
     },
     "metadata": {
      "needs_background": "light"
     }
    }
   ],
   "metadata": {}
  },
  {
   "cell_type": "code",
   "execution_count": 6,
   "source": [
    "age_unemployed_sum = df[[\"Age\",\"I am unemployed\"]].groupby(\"Age\").sum()\r\n",
    "age_unemployed_count = df[[\"Age\",\"I am unemployed\"]].groupby(\"Age\").count()\r\n",
    "age_unemployed_percentage = age_unemployed_sum / age_unemployed_count\r\n",
    "age_unemployed_percentage.sort_values(by=\"I am unemployed\", ascending = False,inplace = True)"
   ],
   "outputs": [],
   "metadata": {}
  },
  {
   "cell_type": "code",
   "execution_count": 7,
   "source": [
    "age = age_unemployed_percentage.plot(kind = \"bar\")\r\n",
    "plt.xlabel('Age Range', fontsize=10)\r\n",
    "plt.ylabel('Percentage of Unemployment', fontsize=10)\r\n",
    "plt.title('Percentage of Unemployment by Age', fontsize=10)\r\n",
    "plt.xticks(fontsize=8)\r\n",
    "for p in age.patches:\r\n",
    "    width = p.get_width()\r\n",
    "    height = p.get_height()\r\n",
    "    x, y = p.get_xy() \r\n",
    "    age.annotate(f'{height:.0%}', (x + width/2, y + height*1.02), ha='center')"
   ],
   "outputs": [
    {
     "output_type": "display_data",
     "data": {
      "image/png": "[encoded data removed]",
      "text/plain": [
       "<Figure size 432x288 with 1 Axes>"
      ]
     },
     "metadata": {
      "needs_background": "light"
     }
    }
   ],
   "metadata": {}
  },
  {
   "cell_type": "code",
   "execution_count": 8,
   "source": [
    "gender_unemployed_sum = df[[\"Gender\",\"I am unemployed\"]].groupby(\"Gender\").sum()\r\n",
    "gender_unemployed_count = df[[\"Gender\",\"I am unemployed\"]].groupby(\"Gender\").count()\r\n",
    "gender_unemployed_percentage = gender_unemployed_sum / gender_unemployed_count\r\n",
    "gender_unemployed_percentage.sort_values(by=\"I am unemployed\", ascending = False,inplace = True)"
   ],
   "outputs": [],
   "metadata": {}
  },
  {
   "cell_type": "code",
   "execution_count": 9,
   "source": [
    "gender = gender_unemployed_percentage.plot(kind = \"bar\")\r\n",
    "plt.xlabel('Gender', fontsize=10)\r\n",
    "plt.ylabel('Percentage of Unemployment', fontsize=10)\r\n",
    "plt.title('Percentage of Unemployment by Gender', fontsize=10)\r\n",
    "plt.xticks(fontsize=8)\r\n",
    "for p in gender.patches:\r\n",
    "    width = p.get_width()\r\n",
    "    height = p.get_height()\r\n",
    "    x, y = p.get_xy() \r\n",
    "    gender.annotate(f'{height:.0%}', (x + width/2, y + height*1.02), ha='center')"
   ],
   "outputs": [
    {
     "output_type": "display_data",
     "data": {
      "image/png": "[encoded data removed]",
      "text/plain": [
       "<Figure size 432x288 with 1 Axes>"
      ]
     },
     "metadata": {
      "needs_background": "light"
     }
    }
   ],
   "metadata": {}
  },
  {
   "cell_type": "code",
   "execution_count": 10,
   "source": [
    "income_unemployed_sum = df[[\"Household Income\",\"I am unemployed\"]].groupby(\"Household Income\").sum()\r\n",
    "income_unemployed_count = df[[\"Household Income\",\"I am unemployed\"]].groupby(\"Household Income\").count()\r\n",
    "income_unemployed_count"
   ],
   "outputs": [
    {
     "output_type": "execute_result",
     "data": {
      "text/html": [
       "<div>\n",
       "<style scoped>\n",
       "    .dataframe tbody tr th:only-of-type {\n",
       "        vertical-align: middle;\n",
       "    }\n",
       "\n",
       "    .dataframe tbody tr th {\n",
       "        vertical-align: top;\n",
       "    }\n",
       "\n",
       "    .dataframe thead th {\n",
       "        text-align: right;\n",
       "    }\n",
       "</style>\n",
       "<table border=\"1\" class=\"dataframe\">\n",
       "  <thead>\n",
       "    <tr style=\"text-align: right;\">\n",
       "      <th></th>\n",
       "      <th>I am unemployed</th>\n",
       "    </tr>\n",
       "    <tr>\n",
       "      <th>Household Income</th>\n",
       "      <th></th>\n",
       "    </tr>\n",
       "  </thead>\n",
       "  <tbody>\n",
       "    <tr>\n",
       "      <th>$0-$9,999</th>\n",
       "      <td>27</td>\n",
       "    </tr>\n",
       "    <tr>\n",
       "      <th>$10,000-$24,999</th>\n",
       "      <td>35</td>\n",
       "    </tr>\n",
       "    <tr>\n",
       "      <th>$100,000-$124,999</th>\n",
       "      <td>24</td>\n",
       "    </tr>\n",
       "    <tr>\n",
       "      <th>$125,000-$149,999</th>\n",
       "      <td>16</td>\n",
       "    </tr>\n",
       "    <tr>\n",
       "      <th>$150,000-$174,999</th>\n",
       "      <td>14</td>\n",
       "    </tr>\n",
       "    <tr>\n",
       "      <th>$175,000-$199,999</th>\n",
       "      <td>2</td>\n",
       "    </tr>\n",
       "    <tr>\n",
       "      <th>$200,000+</th>\n",
       "      <td>20</td>\n",
       "    </tr>\n",
       "    <tr>\n",
       "      <th>$25,000-$49,999</th>\n",
       "      <td>68</td>\n",
       "    </tr>\n",
       "    <tr>\n",
       "      <th>$50,000-$74,999</th>\n",
       "      <td>57</td>\n",
       "    </tr>\n",
       "    <tr>\n",
       "      <th>$75,000-$99,999</th>\n",
       "      <td>33</td>\n",
       "    </tr>\n",
       "    <tr>\n",
       "      <th>Prefer not to answer</th>\n",
       "      <td>38</td>\n",
       "    </tr>\n",
       "  </tbody>\n",
       "</table>\n",
       "</div>"
      ],
      "text/plain": [
       "                      I am unemployed\n",
       "Household Income                     \n",
       "$0-$9,999                          27\n",
       "$10,000-$24,999                    35\n",
       "$100,000-$124,999                  24\n",
       "$125,000-$149,999                  16\n",
       "$150,000-$174,999                  14\n",
       "$175,000-$199,999                   2\n",
       "$200,000+                          20\n",
       "$25,000-$49,999                    68\n",
       "$50,000-$74,999                    57\n",
       "$75,000-$99,999                    33\n",
       "Prefer not to answer               38"
      ]
     },
     "metadata": {},
     "execution_count": 10
    }
   ],
   "metadata": {}
  },
  {
   "cell_type": "code",
   "execution_count": 11,
   "source": [
    "income_unemployed_percentage = income_unemployed_sum / income_unemployed_count\r\n",
    "income_unemployed_percentage.reset_index(inplace = True)\r\n",
    "income_unemployed_percentage"
   ],
   "outputs": [
    {
     "output_type": "execute_result",
     "data": {
      "text/html": [
       "<div>\n",
       "<style scoped>\n",
       "    .dataframe tbody tr th:only-of-type {\n",
       "        vertical-align: middle;\n",
       "    }\n",
       "\n",
       "    .dataframe tbody tr th {\n",
       "        vertical-align: top;\n",
       "    }\n",
       "\n",
       "    .dataframe thead th {\n",
       "        text-align: right;\n",
       "    }\n",
       "</style>\n",
       "<table border=\"1\" class=\"dataframe\">\n",
       "  <thead>\n",
       "    <tr style=\"text-align: right;\">\n",
       "      <th></th>\n",
       "      <th>Household Income</th>\n",
       "      <th>I am unemployed</th>\n",
       "    </tr>\n",
       "  </thead>\n",
       "  <tbody>\n",
       "    <tr>\n",
       "      <th>0</th>\n",
       "      <td>$0-$9,999</td>\n",
       "      <td>0.629630</td>\n",
       "    </tr>\n",
       "    <tr>\n",
       "      <th>1</th>\n",
       "      <td>$10,000-$24,999</td>\n",
       "      <td>0.257143</td>\n",
       "    </tr>\n",
       "    <tr>\n",
       "      <th>2</th>\n",
       "      <td>$100,000-$124,999</td>\n",
       "      <td>0.083333</td>\n",
       "    </tr>\n",
       "    <tr>\n",
       "      <th>3</th>\n",
       "      <td>$125,000-$149,999</td>\n",
       "      <td>0.000000</td>\n",
       "    </tr>\n",
       "    <tr>\n",
       "      <th>4</th>\n",
       "      <td>$150,000-$174,999</td>\n",
       "      <td>0.214286</td>\n",
       "    </tr>\n",
       "    <tr>\n",
       "      <th>5</th>\n",
       "      <td>$175,000-$199,999</td>\n",
       "      <td>0.500000</td>\n",
       "    </tr>\n",
       "    <tr>\n",
       "      <th>6</th>\n",
       "      <td>$200,000+</td>\n",
       "      <td>0.050000</td>\n",
       "    </tr>\n",
       "    <tr>\n",
       "      <th>7</th>\n",
       "      <td>$25,000-$49,999</td>\n",
       "      <td>0.220588</td>\n",
       "    </tr>\n",
       "    <tr>\n",
       "      <th>8</th>\n",
       "      <td>$50,000-$74,999</td>\n",
       "      <td>0.298246</td>\n",
       "    </tr>\n",
       "    <tr>\n",
       "      <th>9</th>\n",
       "      <td>$75,000-$99,999</td>\n",
       "      <td>0.212121</td>\n",
       "    </tr>\n",
       "    <tr>\n",
       "      <th>10</th>\n",
       "      <td>Prefer not to answer</td>\n",
       "      <td>0.368421</td>\n",
       "    </tr>\n",
       "  </tbody>\n",
       "</table>\n",
       "</div>"
      ],
      "text/plain": [
       "        Household Income  I am unemployed\n",
       "0              $0-$9,999         0.629630\n",
       "1        $10,000-$24,999         0.257143\n",
       "2      $100,000-$124,999         0.083333\n",
       "3      $125,000-$149,999         0.000000\n",
       "4      $150,000-$174,999         0.214286\n",
       "5      $175,000-$199,999         0.500000\n",
       "6              $200,000+         0.050000\n",
       "7        $25,000-$49,999         0.220588\n",
       "8        $50,000-$74,999         0.298246\n",
       "9        $75,000-$99,999         0.212121\n",
       "10  Prefer not to answer         0.368421"
      ]
     },
     "metadata": {},
     "execution_count": 11
    }
   ],
   "metadata": {}
  },
  {
   "cell_type": "code",
   "execution_count": 12,
   "source": [
    "df_mapping = pd.DataFrame({\r\n",
    "    'Household Income': [\"$0-$9,999\", \"$10,000-$24,999\", \"$25,000-$49,999\", \"$50,000-$74,999\", \"$75,000-$99,999\", \"$100,000-$124,999\", \"$125,000-$149,999\", \"$150,000-$174,999\", \"$175,000-$199,999\", \"$200,000+\", \"Prefer not to answer\"]\r\n",
    "})\r\n",
    "\r\n",
    "sort_mapping = df_mapping.reset_index().set_index(\"Household Income\")\r\n",
    "sort_mapping"
   ],
   "outputs": [
    {
     "output_type": "execute_result",
     "data": {
      "text/html": [
       "<div>\n",
       "<style scoped>\n",
       "    .dataframe tbody tr th:only-of-type {\n",
       "        vertical-align: middle;\n",
       "    }\n",
       "\n",
       "    .dataframe tbody tr th {\n",
       "        vertical-align: top;\n",
       "    }\n",
       "\n",
       "    .dataframe thead th {\n",
       "        text-align: right;\n",
       "    }\n",
       "</style>\n",
       "<table border=\"1\" class=\"dataframe\">\n",
       "  <thead>\n",
       "    <tr style=\"text-align: right;\">\n",
       "      <th></th>\n",
       "      <th>index</th>\n",
       "    </tr>\n",
       "    <tr>\n",
       "      <th>Household Income</th>\n",
       "      <th></th>\n",
       "    </tr>\n",
       "  </thead>\n",
       "  <tbody>\n",
       "    <tr>\n",
       "      <th>$0-$9,999</th>\n",
       "      <td>0</td>\n",
       "    </tr>\n",
       "    <tr>\n",
       "      <th>$10,000-$24,999</th>\n",
       "      <td>1</td>\n",
       "    </tr>\n",
       "    <tr>\n",
       "      <th>$25,000-$49,999</th>\n",
       "      <td>2</td>\n",
       "    </tr>\n",
       "    <tr>\n",
       "      <th>$50,000-$74,999</th>\n",
       "      <td>3</td>\n",
       "    </tr>\n",
       "    <tr>\n",
       "      <th>$75,000-$99,999</th>\n",
       "      <td>4</td>\n",
       "    </tr>\n",
       "    <tr>\n",
       "      <th>$100,000-$124,999</th>\n",
       "      <td>5</td>\n",
       "    </tr>\n",
       "    <tr>\n",
       "      <th>$125,000-$149,999</th>\n",
       "      <td>6</td>\n",
       "    </tr>\n",
       "    <tr>\n",
       "      <th>$150,000-$174,999</th>\n",
       "      <td>7</td>\n",
       "    </tr>\n",
       "    <tr>\n",
       "      <th>$175,000-$199,999</th>\n",
       "      <td>8</td>\n",
       "    </tr>\n",
       "    <tr>\n",
       "      <th>$200,000+</th>\n",
       "      <td>9</td>\n",
       "    </tr>\n",
       "    <tr>\n",
       "      <th>Prefer not to answer</th>\n",
       "      <td>10</td>\n",
       "    </tr>\n",
       "  </tbody>\n",
       "</table>\n",
       "</div>"
      ],
      "text/plain": [
       "                      index\n",
       "Household Income           \n",
       "$0-$9,999                 0\n",
       "$10,000-$24,999           1\n",
       "$25,000-$49,999           2\n",
       "$50,000-$74,999           3\n",
       "$75,000-$99,999           4\n",
       "$100,000-$124,999         5\n",
       "$125,000-$149,999         6\n",
       "$150,000-$174,999         7\n",
       "$175,000-$199,999         8\n",
       "$200,000+                 9\n",
       "Prefer not to answer     10"
      ]
     },
     "metadata": {},
     "execution_count": 12
    }
   ],
   "metadata": {}
  },
  {
   "cell_type": "code",
   "execution_count": 13,
   "source": [
    "income_unemployed_percentage[\"sort\"] = income_unemployed_percentage[\"Household Income\"].map(sort_mapping['index'])\r\n",
    "income_unemployed_percentage.sort_values('sort', inplace = True)\r\n",
    "income_unemployed_percentage.drop('sort', axis = 1, inplace = True)\r\n",
    "income_unemployed_percentage"
   ],
   "outputs": [
    {
     "output_type": "execute_result",
     "data": {
      "text/html": [
       "<div>\n",
       "<style scoped>\n",
       "    .dataframe tbody tr th:only-of-type {\n",
       "        vertical-align: middle;\n",
       "    }\n",
       "\n",
       "    .dataframe tbody tr th {\n",
       "        vertical-align: top;\n",
       "    }\n",
       "\n",
       "    .dataframe thead th {\n",
       "        text-align: right;\n",
       "    }\n",
       "</style>\n",
       "<table border=\"1\" class=\"dataframe\">\n",
       "  <thead>\n",
       "    <tr style=\"text-align: right;\">\n",
       "      <th></th>\n",
       "      <th>Household Income</th>\n",
       "      <th>I am unemployed</th>\n",
       "    </tr>\n",
       "  </thead>\n",
       "  <tbody>\n",
       "    <tr>\n",
       "      <th>0</th>\n",
       "      <td>$0-$9,999</td>\n",
       "      <td>0.629630</td>\n",
       "    </tr>\n",
       "    <tr>\n",
       "      <th>1</th>\n",
       "      <td>$10,000-$24,999</td>\n",
       "      <td>0.257143</td>\n",
       "    </tr>\n",
       "    <tr>\n",
       "      <th>7</th>\n",
       "      <td>$25,000-$49,999</td>\n",
       "      <td>0.220588</td>\n",
       "    </tr>\n",
       "    <tr>\n",
       "      <th>8</th>\n",
       "      <td>$50,000-$74,999</td>\n",
       "      <td>0.298246</td>\n",
       "    </tr>\n",
       "    <tr>\n",
       "      <th>9</th>\n",
       "      <td>$75,000-$99,999</td>\n",
       "      <td>0.212121</td>\n",
       "    </tr>\n",
       "    <tr>\n",
       "      <th>2</th>\n",
       "      <td>$100,000-$124,999</td>\n",
       "      <td>0.083333</td>\n",
       "    </tr>\n",
       "    <tr>\n",
       "      <th>3</th>\n",
       "      <td>$125,000-$149,999</td>\n",
       "      <td>0.000000</td>\n",
       "    </tr>\n",
       "    <tr>\n",
       "      <th>4</th>\n",
       "      <td>$150,000-$174,999</td>\n",
       "      <td>0.214286</td>\n",
       "    </tr>\n",
       "    <tr>\n",
       "      <th>5</th>\n",
       "      <td>$175,000-$199,999</td>\n",
       "      <td>0.500000</td>\n",
       "    </tr>\n",
       "    <tr>\n",
       "      <th>6</th>\n",
       "      <td>$200,000+</td>\n",
       "      <td>0.050000</td>\n",
       "    </tr>\n",
       "    <tr>\n",
       "      <th>10</th>\n",
       "      <td>Prefer not to answer</td>\n",
       "      <td>0.368421</td>\n",
       "    </tr>\n",
       "  </tbody>\n",
       "</table>\n",
       "</div>"
      ],
      "text/plain": [
       "        Household Income  I am unemployed\n",
       "0              $0-$9,999         0.629630\n",
       "1        $10,000-$24,999         0.257143\n",
       "7        $25,000-$49,999         0.220588\n",
       "8        $50,000-$74,999         0.298246\n",
       "9        $75,000-$99,999         0.212121\n",
       "2      $100,000-$124,999         0.083333\n",
       "3      $125,000-$149,999         0.000000\n",
       "4      $150,000-$174,999         0.214286\n",
       "5      $175,000-$199,999         0.500000\n",
       "6              $200,000+         0.050000\n",
       "10  Prefer not to answer         0.368421"
      ]
     },
     "metadata": {},
     "execution_count": 13
    }
   ],
   "metadata": {}
  },
  {
   "cell_type": "code",
   "execution_count": 14,
   "source": [
    "income = income_unemployed_percentage.plot(kind = \"bar\")\r\n",
    "plt.xlabel('Income Range', fontsize=10)\r\n",
    "plt.ylabel('Percentage of Unemployment', fontsize=10)\r\n",
    "plt.title('Percentage of Unemployment by Income', fontsize=10)\r\n",
    "plt.xticks(ticks = range(len(income_unemployed_percentage)), labels = income_unemployed_percentage['Household Income'], fontsize=8)\r\n",
    "for p in income.patches:\r\n",
    "    width = p.get_width()\r\n",
    "    height = p.get_height()\r\n",
    "    x, y = p.get_xy() \r\n",
    "    income.annotate(f'{height:.0%}', (x + width/2, y + height*1.02), ha='center')"
   ],
   "outputs": [
    {
     "output_type": "display_data",
     "data": {
      "image/png": "[encoded data removed]",
      "text/plain": [
       "<Figure size 432x288 with 1 Axes>"
      ]
     },
     "metadata": {
      "needs_background": "light"
     }
    }
   ],
   "metadata": {}
  },
  {
   "cell_type": "code",
   "execution_count": 69,
   "source": [
    "education_mental_sum  = df[[\"Education\",\"I identify as having a mental illness\"]].groupby(\"Education\").sum()\r\n",
    "education_mental_count = df[[\"Education\",\"I identify as having a mental illness\"]].groupby(\"Education\").count()\r\n",
    "education_mental_percentage = education_mental_sum / education_mental_count\r\n",
    "edu_lst_unord = education_mental_percentage.index\r\n",
    "edu_lst_unord"
   ],
   "outputs": [
    {
     "output_type": "execute_result",
     "data": {
      "text/plain": [
       "Index(['Completed Masters', 'Completed Phd', 'Completed Undergraduate',\n",
       "       'High School or GED', 'Some Phd', 'Some Undergraduate',\n",
       "       'Some highschool', 'Some Masters'],\n",
       "      dtype='object', name='Education')"
      ]
     },
     "metadata": {},
     "execution_count": 69
    }
   ],
   "metadata": {}
  },
  {
   "cell_type": "code",
   "execution_count": 70,
   "source": [
    "sm = edu_lst_unord[7]\r\n",
    "sm"
   ],
   "outputs": [
    {
     "output_type": "execute_result",
     "data": {
      "text/plain": [
       "'Some\\xa0Masters'"
      ]
     },
     "metadata": {},
     "execution_count": 70
    }
   ],
   "metadata": {}
  },
  {
   "cell_type": "code",
   "execution_count": 71,
   "source": [
    "df_mapping = pd.DataFrame({\r\n",
    "    'Education': [\"Some highschool\", \"High School or GED\", \"Some Undergraduate\", \"Completed Undergraduate\",'Some\\xa0Masters', \"Completed Masters\", \"Some Phd\", \"Completed Phd\"]\r\n",
    "})\r\n",
    "\r\n",
    "sort_mapping = df_mapping.reset_index().set_index(\"Education\")\r\n",
    "sort_mapping"
   ],
   "outputs": [
    {
     "output_type": "execute_result",
     "data": {
      "text/html": [
       "<div>\n",
       "<style scoped>\n",
       "    .dataframe tbody tr th:only-of-type {\n",
       "        vertical-align: middle;\n",
       "    }\n",
       "\n",
       "    .dataframe tbody tr th {\n",
       "        vertical-align: top;\n",
       "    }\n",
       "\n",
       "    .dataframe thead th {\n",
       "        text-align: right;\n",
       "    }\n",
       "</style>\n",
       "<table border=\"1\" class=\"dataframe\">\n",
       "  <thead>\n",
       "    <tr style=\"text-align: right;\">\n",
       "      <th></th>\n",
       "      <th>index</th>\n",
       "    </tr>\n",
       "    <tr>\n",
       "      <th>Education</th>\n",
       "      <th></th>\n",
       "    </tr>\n",
       "  </thead>\n",
       "  <tbody>\n",
       "    <tr>\n",
       "      <th>Some highschool</th>\n",
       "      <td>0</td>\n",
       "    </tr>\n",
       "    <tr>\n",
       "      <th>High School or GED</th>\n",
       "      <td>1</td>\n",
       "    </tr>\n",
       "    <tr>\n",
       "      <th>Some Undergraduate</th>\n",
       "      <td>2</td>\n",
       "    </tr>\n",
       "    <tr>\n",
       "      <th>Completed Undergraduate</th>\n",
       "      <td>3</td>\n",
       "    </tr>\n",
       "    <tr>\n",
       "      <th>Some Masters</th>\n",
       "      <td>4</td>\n",
       "    </tr>\n",
       "    <tr>\n",
       "      <th>Completed Masters</th>\n",
       "      <td>5</td>\n",
       "    </tr>\n",
       "    <tr>\n",
       "      <th>Some Phd</th>\n",
       "      <td>6</td>\n",
       "    </tr>\n",
       "    <tr>\n",
       "      <th>Completed Phd</th>\n",
       "      <td>7</td>\n",
       "    </tr>\n",
       "  </tbody>\n",
       "</table>\n",
       "</div>"
      ],
      "text/plain": [
       "                         index\n",
       "Education                     \n",
       "Some highschool              0\n",
       "High School or GED           1\n",
       "Some Undergraduate           2\n",
       "Completed Undergraduate      3\n",
       "Some Masters                 4\n",
       "Completed Masters            5\n",
       "Some Phd                     6\n",
       "Completed Phd                7"
      ]
     },
     "metadata": {},
     "execution_count": 71
    }
   ],
   "metadata": {}
  },
  {
   "cell_type": "code",
   "execution_count": 72,
   "source": [
    "education_mental_percentage.reset_index(inplace = True)\r\n",
    "education_mental_percentage[\"sort\"] = education_mental_percentage[\"Education\"].map(sort_mapping['index'])\r\n",
    "education_mental_percentage.sort_values('sort', inplace = True)\r\n",
    "education_mental_percentage.drop('sort', axis = 1, inplace = True)\r\n",
    "education_mental_percentage.set_index(\"Education\", inplace = True)"
   ],
   "outputs": [],
   "metadata": {}
  },
  {
   "cell_type": "code",
   "execution_count": 73,
   "source": [
    "ed2 = education_mental_percentage.plot(kind = \"bar\")\r\n",
    "plt.xlabel('Education Level', fontsize=10)\r\n",
    "plt.ylabel('Percentage of Mental Illness', fontsize=10)\r\n",
    "plt.title('Percentage of Mental Illness by Education Level', fontsize=10)\r\n",
    "plt.xticks(fontsize=8)\r\n",
    "for p in ed2.patches:\r\n",
    "    width = p.get_width()\r\n",
    "    height = p.get_height()\r\n",
    "    x, y = p.get_xy() \r\n",
    "    ed2.annotate(f'{height:.0%}', (x + width/2, y + height*1.02), ha='center')"
   ],
   "outputs": [
    {
     "output_type": "display_data",
     "data": {
      "image/png": "[encoded data removed]",
      "text/plain": [
       "<Figure size 432x288 with 1 Axes>"
      ]
     },
     "metadata": {
      "needs_background": "light"
     }
    }
   ],
   "metadata": {}
  },
  {
   "cell_type": "code",
   "execution_count": null,
   "source": [
    "age_mental_sum  = df[[\"Age\",\"I identify as having a mental illness\"]].groupby(\"Age\").sum()\r\n",
    "age_mental_count = df[[\"Age\",\"I identify as having a mental illness\"]].groupby(\"Age\").count()\r\n",
    "age_mental_percentage = age_mental_sum / age_mental_count\r\n",
    "age_mental_percentage.sort_values(by=\"I identify as having a mental illness\", ascending = False,inplace = True)\r\n",
    "age2 = age_mental_percentage.plot(kind = \"bar\")\r\n",
    "plt.xlabel('Age Range', fontsize=10)\r\n",
    "plt.ylabel('Percentage of Mental Illness', fontsize=10)\r\n",
    "plt.title('Percentage of Mentall Illness by Age', fontsize=10)\r\n",
    "plt.xticks(fontsize=8)\r\n",
    "for p in age2.patches:\r\n",
    "    width = p.get_width()\r\n",
    "    height = p.get_height()\r\n",
    "    x, y = p.get_xy() \r\n",
    "    age2.annotate(f'{height:.0%}', (x + width/2, y + height*1.02), ha='center')"
   ],
   "outputs": [],
   "metadata": {}
  },
  {
   "cell_type": "code",
   "execution_count": null,
   "source": [
    "gender_mental_sum  = df[[\"Gender\",\"I identify as having a mental illness\"]].groupby(\"Gender\").sum()\r\n",
    "gender_mental_count = df[[\"Gender\",\"I identify as having a mental illness\"]].groupby(\"Gender\").count()\r\n",
    "gender_mental_percentage = gender_mental_sum / gender_mental_count\r\n",
    "gender_mental_percentage.sort_values(by=\"I identify as having a mental illness\", ascending = False,inplace = True)\r\n",
    "gender2 = gender_mental_percentage.plot(kind = \"bar\")\r\n",
    "plt.xlabel('Gender', fontsize=10)\r\n",
    "plt.ylabel('Percentage of Mental Illness', fontsize=10)\r\n",
    "plt.title('Percentage of Mentall Illness by Gender', fontsize=10)\r\n",
    "plt.xticks(fontsize=8)\r\n",
    "for p in gender2.patches:\r\n",
    "    width = p.get_width()\r\n",
    "    height = p.get_height()\r\n",
    "    x, y = p.get_xy() \r\n",
    "    gender2.annotate(f'{height:.0%}', (x + width/2, y + height*1.02), ha='center')"
   ],
   "outputs": [],
   "metadata": {}
  },
  {
   "cell_type": "code",
   "execution_count": null,
   "source": [
    "income_mental_sum = df[[\"Household Income\",\"I identify as having a mental illness\"]].groupby(\"Household Income\").sum()\r\n",
    "income_mental_count = df[[\"Household Income\",\"I identify as having a mental illness\"]].groupby(\"Household Income\").count()\r\n",
    "print(income_mental_count)\r\n",
    "print(income_unemployed_count)"
   ],
   "outputs": [],
   "metadata": {}
  },
  {
   "cell_type": "code",
   "execution_count": null,
   "source": [
    "income_mental_percentage = income_mental_sum / income_mental_count\r\n",
    "income_mental_percentage.reset_index(inplace = True)\r\n",
    "income_mental_percentage"
   ],
   "outputs": [],
   "metadata": {}
  },
  {
   "cell_type": "code",
   "execution_count": null,
   "source": [
    "df_mapping = pd.DataFrame({\r\n",
    "    'Household Income': [\"$0-$9,999\", \"$10,000-$24,999\", \"$25,000-$49,999\", \"$50,000-$74,999\", \"$75,000-$99,999\", \"$100,000-$124,999\", \"$125,000-$149,999\", \"$150,000-$174,999\", \"$175,000-$199,999\", \"$200,000+\", \"Prefer not to answer\"]\r\n",
    "})\r\n",
    "\r\n",
    "sort_mapping = df_mapping.reset_index().set_index(\"Household Income\")\r\n",
    "sort_mapping"
   ],
   "outputs": [],
   "metadata": {}
  },
  {
   "cell_type": "code",
   "execution_count": null,
   "source": [
    "income_mental_percentage[\"sort\"] = income_mental_percentage[\"Household Income\"].map(sort_mapping['index'])\r\n",
    "income_mental_percentage.sort_values('sort', inplace = True)\r\n",
    "income_mental_percentage.drop('sort', axis = 1, inplace = True)\r\n",
    "income_mental_percentage"
   ],
   "outputs": [],
   "metadata": {}
  },
  {
   "cell_type": "code",
   "execution_count": null,
   "source": [
    "income_mental = income_mental_percentage.plot(kind = \"bar\")\r\n",
    "plt.xlabel('Income Range', fontsize=10)\r\n",
    "plt.ylabel('Percentage of Mental Illness', fontsize=10)\r\n",
    "plt.title('Percentage of Mental Illness by Income', fontsize=10)\r\n",
    "plt.xticks(ticks = range(len(income_mental_percentage)), labels = income_mental_percentage['Household Income'], fontsize=8)\r\n",
    "for p in income_mental.patches:\r\n",
    "    width = p.get_width()\r\n",
    "    height = p.get_height()\r\n",
    "    x, y = p.get_xy() \r\n",
    "    income_mental.annotate(f'{height:.0%}', (x + width/2, y + height*1.02), ha='center')"
   ],
   "outputs": [],
   "metadata": {}
  }
 ],
 "metadata": {
  "orig_nbformat": 4,
  "language_info": {
   "name": "python",
   "version": "3.8.8",
   "mimetype": "text/x-python",
   "codemirror_mode": {
    "name": "ipython",
    "version": 3
   },
   "pygments_lexer": "ipython3",
   "nbconvert_exporter": "python",
   "file_extension": ".py"
  },
  "kernelspec": {
   "name": "python3",
   "display_name": "Python 3.8.8 64-bit ('base': conda)"
  },
  "interpreter": {
   "hash": "a8894775e8aeee242aa6e141c386e0510b6f2108a9b3d20c3f118f8cb925642c"
  }
 },
 "nbformat": 4,
 "nbformat_minor": 2
}