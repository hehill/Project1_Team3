{
 "cells": [
  {
   "cell_type": "code",
   "execution_count": 4,
   "source": [
    "# Dependencies and Setup\r\n",
    "import matplotlib.pyplot as plt\r\n",
    "import pandas as pd\r\n",
    "import numpy as np\r\n",
    "import requests\r\n",
    "import gmaps\r\n",
    "import os\r\n",
    "\r\n",
    "from api_keys import g_key\r\n"
   ],
   "outputs": [],
   "metadata": {}
  },
  {
   "cell_type": "code",
   "execution_count": 29,
   "source": [
    "file = \"data_cleaning.csv\"\r\n",
    "df = pd.read_csv(file)\r\n",
    "df['% Unemployed'] = df['No work >yr'] + df['No work< yr']\r\n",
    "df = df.dropna(subset=['GeoLocation'])\r\n"
   ],
   "outputs": [],
   "metadata": {}
  },
  {
   "cell_type": "code",
   "execution_count": 30,
   "source": [
    "\r\n",
    "df['GeoLocation'] = df['GeoLocation'].str.replace(r'\\(*\\)*','')\r\n",
    "df[['lat','lng']] = df['GeoLocation'].str.split(', ',expand=True)\r\n",
    "\r\n",
    "\r\n",
    "locations = df[['lat','lng']].astype(float)\r\n"
   ],
   "outputs": [
    {
     "output_type": "stream",
     "name": "stderr",
     "text": [
      "<ipython-input-30-4e6829c58327>:1: FutureWarning: The default value of regex will change from True to False in a future version.\n",
      "  df['GeoLocation'] = df['GeoLocation'].str.replace(r'\\(*\\)*','')\n"
     ]
    }
   ],
   "metadata": {}
  },
  {
   "cell_type": "code",
   "execution_count": 8,
   "source": [
    "gmaps.configure(api_key=g_key)\r\n",
    "unemployment = df['% Unemployed']\r\n",
    "poor_mh = df['14+ days when mental health not good']\r\n",
    "\r\n",
    "fig = gmaps.figure()\r\n",
    "\r\n",
    "heatmap_layer = gmaps.heatmap_layer(locations,weights=unemployment,dissipating=False, max_intensity=max(unemployment), point_radius=2)\r\n",
    "\r\n",
    "fig.add_layer(heatmap_layer)\r\n",
    "\r\n",
    "fig\r\n"
   ],
   "outputs": [
    {
     "output_type": "display_data",
     "data": {
      "application/vnd.jupyter.widget-view+json": {
       "version_major": 2,
       "version_minor": 0,
       "model_id": "29f6945cd4f64a7595911ac26fae12ca"
      },
      "text/plain": [
       "Figure(layout=FigureLayout(height='420px'))"
      ]
     },
     "metadata": {}
    }
   ],
   "metadata": {}
  },
  {
   "cell_type": "code",
   "execution_count": 9,
   "source": [
    "fig = gmaps.figure()\r\n",
    "\r\n",
    "heatmap_layer = gmaps.heatmap_layer(locations,weights=poor_mh,dissipating=False, max_intensity=max(poor_mh), point_radius=2)\r\n",
    "\r\n",
    "fig.add_layer(heatmap_layer)\r\n",
    "\r\n",
    "fig"
   ],
   "outputs": [
    {
     "output_type": "display_data",
     "data": {
      "application/vnd.jupyter.widget-view+json": {
       "version_major": 2,
       "version_minor": 0,
       "model_id": "074d21cb5b7f4cb0a37c8ba9b25e5f75"
      },
      "text/plain": [
       "Figure(layout=FigureLayout(height='420px'))"
      ]
     },
     "metadata": {}
    }
   ],
   "metadata": {}
  },
  {
   "cell_type": "code",
   "execution_count": 31,
   "source": [
    "rankings = pd.read_csv(\"MHA\\Mental_Healthcare_Access_Tables.csv\")\r\n",
    "\r\n",
    "rankings.head()"
   ],
   "outputs": [
    {
     "output_type": "execute_result",
     "data": {
      "text/html": [
       "<div>\n",
       "<style scoped>\n",
       "    .dataframe tbody tr th:only-of-type {\n",
       "        vertical-align: middle;\n",
       "    }\n",
       "\n",
       "    .dataframe tbody tr th {\n",
       "        vertical-align: top;\n",
       "    }\n",
       "\n",
       "    .dataframe thead th {\n",
       "        text-align: right;\n",
       "    }\n",
       "</style>\n",
       "<table border=\"1\" class=\"dataframe\">\n",
       "  <thead>\n",
       "    <tr style=\"text-align: right;\">\n",
       "      <th></th>\n",
       "      <th>RankSort descending</th>\n",
       "      <th>State</th>\n",
       "    </tr>\n",
       "  </thead>\n",
       "  <tbody>\n",
       "    <tr>\n",
       "      <th>0</th>\n",
       "      <td>1</td>\n",
       "      <td>Hawaii</td>\n",
       "    </tr>\n",
       "    <tr>\n",
       "      <th>1</th>\n",
       "      <td>2</td>\n",
       "      <td>Iowa</td>\n",
       "    </tr>\n",
       "    <tr>\n",
       "      <th>2</th>\n",
       "      <td>3</td>\n",
       "      <td>Minnesota</td>\n",
       "    </tr>\n",
       "    <tr>\n",
       "      <th>3</th>\n",
       "      <td>4</td>\n",
       "      <td>New York</td>\n",
       "    </tr>\n",
       "    <tr>\n",
       "      <th>4</th>\n",
       "      <td>5</td>\n",
       "      <td>Maryland</td>\n",
       "    </tr>\n",
       "  </tbody>\n",
       "</table>\n",
       "</div>"
      ],
      "text/plain": [
       "   RankSort descending      State\n",
       "0                    1     Hawaii\n",
       "1                    2       Iowa\n",
       "2                    3  Minnesota\n",
       "3                    4   New York\n",
       "4                    5   Maryland"
      ]
     },
     "metadata": {},
     "execution_count": 31
    }
   ],
   "metadata": {}
  },
  {
   "cell_type": "code",
   "execution_count": 32,
   "source": [
    "rankings.rename(columns = {\"RankSort descending\": \"Rank\", \"State\": \"State\"}, inplace = True)"
   ],
   "outputs": [],
   "metadata": {}
  },
  {
   "cell_type": "code",
   "execution_count": 33,
   "source": [
    "rankings.info()"
   ],
   "outputs": [
    {
     "output_type": "stream",
     "name": "stdout",
     "text": [
      "<class 'pandas.core.frame.DataFrame'>\n",
      "RangeIndex: 51 entries, 0 to 50\n",
      "Data columns (total 2 columns):\n",
      " #   Column  Non-Null Count  Dtype \n",
      "---  ------  --------------  ----- \n",
      " 0   Rank    51 non-null     int64 \n",
      " 1   State   51 non-null     object\n",
      "dtypes: int64(1), object(1)\n",
      "memory usage: 944.0+ bytes\n"
     ]
    }
   ],
   "metadata": {}
  },
  {
   "cell_type": "code",
   "execution_count": 34,
   "source": [
    "df = pd.merge(df, rankings, on = \"State\", how = \"outer\")"
   ],
   "outputs": [],
   "metadata": {}
  },
  {
   "cell_type": "code",
   "execution_count": 35,
   "source": [
    "df.columns\r\n"
   ],
   "outputs": [
    {
     "output_type": "execute_result",
     "data": {
      "text/plain": [
       "Index(['Unnamed: 0', 'State', '$15,000 - 24,999', '$25,000 - 34,999',\n",
       "       '$35,000 -  49,999', '$50,000+',\n",
       "       '1-13 days when mental health not good',\n",
       "       '1-13 days when physical health not good',\n",
       "       '14+ days when mental health not good',\n",
       "       '14+ days when physical health not good', '18-24 years', '25-34 years',\n",
       "       '35-44 years', '45-54 years', '55-64 years', '65+ years',\n",
       "       'American Indian or Alaskan native, non-Hispanic',\n",
       "       'Asian, non-Hispanic', 'Black, non-Hispanic', 'College+', 'Divorced',\n",
       "       'Employed', 'Female', 'H.S. or G.E.D.', 'Hispanic', 'Homemaker',\n",
       "       'Less than $15,000', 'Less than H.S.', 'Male', 'Married',\n",
       "       'Multiracial, non-Hispanic',\n",
       "       'Native Hawaiian or other Pacific Islander, non-Hispanic',\n",
       "       'Never married', 'No Depression Diagnosis', 'No work >yr',\n",
       "       'No work< yr', 'Other race, non-Hispanic', 'Partnered', 'Retired',\n",
       "       'Self-employed', 'Separated', 'Some post-H.S.', 'Student',\n",
       "       'Unable to work', 'White, non-Hispanic', 'Widowed',\n",
       "       'Depression Diagnosis', 'Zero days when mental health not good',\n",
       "       'Zero days when physical health not good', 'State Code', 'GeoLocation',\n",
       "       '% Unemployed', 'lat', 'lng', 'Rank'],\n",
       "      dtype='object')"
      ]
     },
     "metadata": {},
     "execution_count": 35
    }
   ],
   "metadata": {}
  },
  {
   "cell_type": "code",
   "execution_count": 40,
   "source": [
    "df.dropna(subset=[\"Rank\", \"lat\", \"lng\"], inplace = True)\r\n",
    "rank = df[\"Rank\"]\r\n",
    "locations = df[['lat','lng']].astype(float)\r\n",
    "\r\n",
    "fig = gmaps.figure()\r\n",
    "\r\n",
    "heatmap_layer = gmaps.heatmap_layer(locations,weights=rank,dissipating=False, max_intensity=max(rank), point_radius=2)\r\n",
    "\r\n",
    "fig.add_layer(heatmap_layer)\r\n",
    "\r\n",
    "fig"
   ],
   "outputs": [
    {
     "output_type": "display_data",
     "data": {
      "application/vnd.jupyter.widget-view+json": {
       "version_major": 2,
       "version_minor": 0,
       "model_id": "836b07d5930b4af58794740430abb331"
      },
      "text/plain": [
       "Figure(layout=FigureLayout(height='420px'))"
      ]
     },
     "metadata": {}
    }
   ],
   "metadata": {}
  }
 ],
 "metadata": {
  "orig_nbformat": 4,
  "language_info": {
   "name": "python",
   "version": "3.8.8",
   "mimetype": "text/x-python",
   "codemirror_mode": {
    "name": "ipython",
    "version": 3
   },
   "pygments_lexer": "ipython3",
   "nbconvert_exporter": "python",
   "file_extension": ".py"
  },
  "kernelspec": {
   "name": "python3",
   "display_name": "Python 3.8.8 64-bit ('base': conda)"
  },
  "interpreter": {
   "hash": "a8894775e8aeee242aa6e141c386e0510b6f2108a9b3d20c3f118f8cb925642c"
  }
 },
 "nbformat": 4,
 "nbformat_minor": 2
}