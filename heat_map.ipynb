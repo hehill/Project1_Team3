{
 "cells": [
  {
   "cell_type": "code",
   "execution_count": 2,
   "source": [
    "# Dependencies and Setup\r\n",
    "import matplotlib.pyplot as plt\r\n",
    "import pandas as pd\r\n",
    "import numpy as np\r\n",
    "import requests\r\n",
    "import gmaps\r\n",
    "import os\r\n",
    "\r\n",
    "from api_keys import g_key\r\n"
   ],
   "outputs": [],
   "metadata": {}
  },
  {
   "cell_type": "code",
   "execution_count": 49,
   "source": [
    "file = r'C:\\Users\\nnoar\\OneDrive\\Desktop\\Project 1\\Project1_Team3\\data_cleaning.csv'\r\n",
    "df = pd.read_csv(file)\r\n",
    "df['% Unemployed'] = df['No work >yr'] + df['No work< yr']\r\n",
    "df = df.dropna(subset=['GeoLocation'])\r\n"
   ],
   "outputs": [],
   "metadata": {}
  },
  {
   "cell_type": "code",
   "execution_count": 50,
   "source": [
    "\r\n",
    "df['GeoLocation'] = df['GeoLocation'].str.replace(r'\\(*\\)*','')\r\n",
    "df[['lat','lng']] = df['GeoLocation'].str.split(', ',expand=True)\r\n",
    "\r\n",
    "\r\n",
    "locations = df[['lat','lng']].astype(float)\r\n"
   ],
   "outputs": [
    {
     "output_type": "stream",
     "name": "stderr",
     "text": [
      "<ipython-input-50-4e6829c58327>:1: FutureWarning: The default value of regex will change from True to False in a future version.\n",
      "  df['GeoLocation'] = df['GeoLocation'].str.replace(r'\\(*\\)*','')\n"
     ]
    }
   ],
   "metadata": {}
  },
  {
   "cell_type": "code",
   "execution_count": 51,
   "source": [
    "gmaps.configure(api_key=g_key)\r\n",
    "unemployment = df['% Unemployed']\r\n",
    "poor_mh = df['14+ days when mental health not good']\r\n",
    "\r\n",
    "fig = gmaps.figure()\r\n",
    "\r\n",
    "heatmap_layer = gmaps.heatmap_layer(locations,weights=unemployment,dissipating=False, max_intensity=max(unemployment), point_radius=2)\r\n",
    "\r\n",
    "fig.add_layer(heatmap_layer)\r\n",
    "\r\n",
    "fig\r\n"
   ],
   "outputs": [
    {
     "output_type": "display_data",
     "data": {
      "application/vnd.jupyter.widget-view+json": {
       "version_major": 2,
       "version_minor": 0,
       "model_id": "9258365860684499865ca2832089e3e3"
      },
      "text/plain": [
       "Figure(layout=FigureLayout(height='420px'))"
      ]
     },
     "metadata": {}
    }
   ],
   "metadata": {}
  },
  {
   "cell_type": "code",
   "execution_count": 53,
   "source": [
    "fig = gmaps.figure()\r\n",
    "\r\n",
    "heatmap_layer = gmaps.heatmap_layer(locations,weights=poor_mh,dissipating=False, max_intensity=max(poor_mh), point_radius=2)\r\n",
    "\r\n",
    "fig.add_layer(heatmap_layer)\r\n",
    "\r\n",
    "fig"
   ],
   "outputs": [
    {
     "output_type": "display_data",
     "data": {
      "application/vnd.jupyter.widget-view+json": {
       "version_major": 2,
       "version_minor": 0,
       "model_id": "a42a27808ff549b4b18245ef3ba8615a"
      },
      "text/plain": [
       "Figure(layout=FigureLayout(height='420px'))"
      ]
     },
     "metadata": {}
    }
   ],
   "metadata": {}
  },
  {
   "cell_type": "code",
   "execution_count": 54,
   "source": [],
   "outputs": [
    {
     "output_type": "stream",
     "name": "stdout",
     "text": [
      "20.6\n"
     ]
    }
   ],
   "metadata": {}
  }
 ],
 "metadata": {
  "orig_nbformat": 4,
  "language_info": {
   "name": "python",
   "version": "3.8.8",
   "mimetype": "text/x-python",
   "codemirror_mode": {
    "name": "ipython",
    "version": 3
   },
   "pygments_lexer": "ipython3",
   "nbconvert_exporter": "python",
   "file_extension": ".py"
  },
  "kernelspec": {
   "name": "python3",
   "display_name": "Python 3.8.8 64-bit ('base': conda)"
  },
  "interpreter": {
   "hash": "2c99e9fdba74eaac10fbab343373af76b25a75552a47fd4ce928ab922f07f2e4"
  }
 },
 "nbformat": 4,
 "nbformat_minor": 2
}