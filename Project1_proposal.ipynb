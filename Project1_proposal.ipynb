{
 "cells": [
  {
   "cell_type": "markdown",
   "source": [
    "# Project Proposal"
   ],
   "metadata": {}
  },
  {
   "cell_type": "markdown",
   "source": [
    "## Project Title: Mental Illness and Unemployed in the United States\r\n",
    "\r\n",
    "## Team Members:\r\n",
    "* Nicholas Noark\r\n",
    "* Cecilia Zhang\r\n",
    "* Hannah Hill\r\n",
    "\r\n",
    "## Project Description:\r\n",
    "Investigate the relationship between mental illness and unemployment in the US. Consider individual demographics (age, income, education) and their assiociations with mental illness and unemployment. Determine if certain regions of the US have higher rates of mental illness and unemployment and assess access to mental health care in these regions."
   ],
   "metadata": {}
  },
  {
   "cell_type": "markdown",
   "source": [
    "## Research Questions to Answer\r\n",
    "* Describe association between mental illness diagnosis and unemployment in the US.\r\n",
    "* Does type of mental illness affect risk of unemployment?\r\n",
    "* Do other factors like age, income, education also correlate with mental illness and/or unemployment status?\r\n",
    "* What regions of the US are most affected by mental illness and unemployment?\r\n",
    "* What is the status of mental health access in regions most affected?"
   ],
   "metadata": {}
  },
  {
   "cell_type": "markdown",
   "source": [
    "## Datasets to be used\r\n",
    "* https://www.kaggle.com/michaelacorley/unemployment-and-mental-illness-survey\r\n",
    "* https://mhanational.org/issues/2020/mental-health-america-all-data\r\n",
    "* https://www.cdc.gov/brfss/index.html\r\n",
    "* US Census API"
   ],
   "metadata": {}
  },
  {
   "cell_type": "markdown",
   "source": [
    "## Breakdown of Tasks\r\n",
    "1. Retrieving Data - HH\r\n",
    "2. Cleaning Data - NN\r\n",
    "3. Data Visualization - CZ\r\n",
    "4. Statistical Analysis - NN\r\n",
    "5. Correlations and Regression Modeling - CZ\r\n",
    "6. Summarizing Findings - HH"
   ],
   "metadata": {}
  },
  {
   "cell_type": "code",
   "execution_count": null,
   "source": [],
   "outputs": [],
   "metadata": {}
  },
  {
   "cell_type": "markdown",
   "source": [
    "Variables we have (ish):\r\n",
    "* Adult only - 18+\r\n",
    "* Access to care - based on geography/region\r\n",
    "* Education Level\r\n",
    "* Diagnosis\r\n",
    "* Income level\r\n",
    "\r\n",
    "Variables we would like:\r\n",
    "* more info on geography - zipcodes, state-level, rural v urban\r\n",
    "* Could use census data to describe environment\r\n",
    "* Insurance status - if unemployed, do they qualify for medicare/medicaid"
   ],
   "metadata": {}
  }
 ],
 "metadata": {
  "orig_nbformat": 4,
  "language_info": {
   "name": "python"
  }
 },
 "nbformat": 4,
 "nbformat_minor": 2
}