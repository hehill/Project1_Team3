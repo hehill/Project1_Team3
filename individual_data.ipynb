{
 "cells": [
  {
   "cell_type": "markdown",
   "source": [
    "## Individual Data"
   ],
   "metadata": {}
  },
  {
   "cell_type": "markdown",
   "source": [
    "This notebook will assess the relationship between mental health and unemployment using individual data from kaggle.com rather than state-aggregated metrics."
   ],
   "metadata": {}
  },
  {
   "cell_type": "code",
   "execution_count": 62,
   "source": [
    "# Import Dependencies\r\n",
    "import matplotlib.pyplot as plt\r\n",
    "import numpy as np\r\n",
    "import pandas as pd\r\n",
    "import scipy.stats as st\r\n",
    "from scipy.stats import linregress\r\n",
    "from scipy.stats import sem\r\n",
    "\r\n",
    "df_path = \"Kaggle\\Kaggle_data.csv\""
   ],
   "outputs": [],
   "metadata": {}
  },
  {
   "cell_type": "code",
   "execution_count": 63,
   "source": [
    "# Load the data\r\n",
    "df = pd.read_csv(df_path)\r\n",
    "df.head()"
   ],
   "outputs": [
    {
     "output_type": "execute_result",
     "data": {
      "text/html": [
       "<div>\n",
       "<style scoped>\n",
       "    .dataframe tbody tr th:only-of-type {\n",
       "        vertical-align: middle;\n",
       "    }\n",
       "\n",
       "    .dataframe tbody tr th {\n",
       "        vertical-align: top;\n",
       "    }\n",
       "\n",
       "    .dataframe thead th {\n",
       "        text-align: right;\n",
       "    }\n",
       "</style>\n",
       "<table border=\"1\" class=\"dataframe\">\n",
       "  <thead>\n",
       "    <tr style=\"text-align: right;\">\n",
       "      <th></th>\n",
       "      <th>I am currently employed at least part-time</th>\n",
       "      <th>I identify as having a mental illness</th>\n",
       "      <th>Education</th>\n",
       "      <th>I have my own computer separate from a smart phone</th>\n",
       "      <th>I have been hospitalized before for my mental illness</th>\n",
       "      <th>How many days were you hospitalized for your mental illness</th>\n",
       "      <th>I am legally disabled</th>\n",
       "      <th>I have my regular access to the internet</th>\n",
       "      <th>I live with my parents</th>\n",
       "      <th>I have a gap in my resume</th>\n",
       "      <th>...</th>\n",
       "      <th>Obsessive thinking</th>\n",
       "      <th>Mood swings</th>\n",
       "      <th>Panic attacks</th>\n",
       "      <th>Compulsive behavior</th>\n",
       "      <th>Tiredness</th>\n",
       "      <th>Age</th>\n",
       "      <th>Gender</th>\n",
       "      <th>Household Income</th>\n",
       "      <th>Region</th>\n",
       "      <th>Device Type</th>\n",
       "    </tr>\n",
       "  </thead>\n",
       "  <tbody>\n",
       "    <tr>\n",
       "      <th>0</th>\n",
       "      <td>0</td>\n",
       "      <td>0</td>\n",
       "      <td>High School or GED</td>\n",
       "      <td>0</td>\n",
       "      <td>0</td>\n",
       "      <td>0.0</td>\n",
       "      <td>0</td>\n",
       "      <td>1</td>\n",
       "      <td>0</td>\n",
       "      <td>1</td>\n",
       "      <td>...</td>\n",
       "      <td>1.0</td>\n",
       "      <td>0.0</td>\n",
       "      <td>1.0</td>\n",
       "      <td>0.0</td>\n",
       "      <td>0.0</td>\n",
       "      <td>30-44</td>\n",
       "      <td>Male</td>\n",
       "      <td>$25,000-$49,999</td>\n",
       "      <td>Mountain</td>\n",
       "      <td>Android Phone / Tablet</td>\n",
       "    </tr>\n",
       "    <tr>\n",
       "      <th>1</th>\n",
       "      <td>1</td>\n",
       "      <td>1</td>\n",
       "      <td>Some Phd</td>\n",
       "      <td>1</td>\n",
       "      <td>0</td>\n",
       "      <td>0.0</td>\n",
       "      <td>0</td>\n",
       "      <td>1</td>\n",
       "      <td>0</td>\n",
       "      <td>0</td>\n",
       "      <td>...</td>\n",
       "      <td>0.0</td>\n",
       "      <td>0.0</td>\n",
       "      <td>1.0</td>\n",
       "      <td>0.0</td>\n",
       "      <td>1.0</td>\n",
       "      <td>18-29</td>\n",
       "      <td>Male</td>\n",
       "      <td>$50,000-$74,999</td>\n",
       "      <td>East South Central</td>\n",
       "      <td>MacOS Desktop / Laptop</td>\n",
       "    </tr>\n",
       "    <tr>\n",
       "      <th>2</th>\n",
       "      <td>1</td>\n",
       "      <td>0</td>\n",
       "      <td>Completed Undergraduate</td>\n",
       "      <td>1</td>\n",
       "      <td>0</td>\n",
       "      <td>0.0</td>\n",
       "      <td>0</td>\n",
       "      <td>1</td>\n",
       "      <td>0</td>\n",
       "      <td>0</td>\n",
       "      <td>...</td>\n",
       "      <td>0.0</td>\n",
       "      <td>0.0</td>\n",
       "      <td>0.0</td>\n",
       "      <td>0.0</td>\n",
       "      <td>0.0</td>\n",
       "      <td>30-44</td>\n",
       "      <td>Male</td>\n",
       "      <td>$150,000-$174,999</td>\n",
       "      <td>Pacific</td>\n",
       "      <td>MacOS Desktop / Laptop</td>\n",
       "    </tr>\n",
       "    <tr>\n",
       "      <th>3</th>\n",
       "      <td>0</td>\n",
       "      <td>0</td>\n",
       "      <td>Some Undergraduate</td>\n",
       "      <td>1</td>\n",
       "      <td>0</td>\n",
       "      <td>NaN</td>\n",
       "      <td>0</td>\n",
       "      <td>1</td>\n",
       "      <td>1</td>\n",
       "      <td>1</td>\n",
       "      <td>...</td>\n",
       "      <td>0.0</td>\n",
       "      <td>0.0</td>\n",
       "      <td>0.0</td>\n",
       "      <td>0.0</td>\n",
       "      <td>0.0</td>\n",
       "      <td>30-44</td>\n",
       "      <td>Male</td>\n",
       "      <td>$25,000-$49,999</td>\n",
       "      <td>New England</td>\n",
       "      <td>Windows Desktop / Laptop</td>\n",
       "    </tr>\n",
       "    <tr>\n",
       "      <th>4</th>\n",
       "      <td>1</td>\n",
       "      <td>1</td>\n",
       "      <td>Completed Undergraduate</td>\n",
       "      <td>1</td>\n",
       "      <td>1</td>\n",
       "      <td>35.0</td>\n",
       "      <td>1</td>\n",
       "      <td>1</td>\n",
       "      <td>0</td>\n",
       "      <td>1</td>\n",
       "      <td>...</td>\n",
       "      <td>1.0</td>\n",
       "      <td>1.0</td>\n",
       "      <td>1.0</td>\n",
       "      <td>1.0</td>\n",
       "      <td>1.0</td>\n",
       "      <td>30-44</td>\n",
       "      <td>Male</td>\n",
       "      <td>$25,000-$49,999</td>\n",
       "      <td>East North Central</td>\n",
       "      <td>iOS Phone / Tablet</td>\n",
       "    </tr>\n",
       "  </tbody>\n",
       "</table>\n",
       "<p>5 rows × 31 columns</p>\n",
       "</div>"
      ],
      "text/plain": [
       "   I am currently employed at least part-time  \\\n",
       "0                                           0   \n",
       "1                                           1   \n",
       "2                                           1   \n",
       "3                                           0   \n",
       "4                                           1   \n",
       "\n",
       "   I identify as having a mental illness                Education  \\\n",
       "0                                      0       High School or GED   \n",
       "1                                      1                 Some Phd   \n",
       "2                                      0  Completed Undergraduate   \n",
       "3                                      0       Some Undergraduate   \n",
       "4                                      1  Completed Undergraduate   \n",
       "\n",
       "   I have my own computer separate from a smart phone  \\\n",
       "0                                                  0    \n",
       "1                                                  1    \n",
       "2                                                  1    \n",
       "3                                                  1    \n",
       "4                                                  1    \n",
       "\n",
       "   I have been hospitalized before for my mental illness  \\\n",
       "0                                                  0       \n",
       "1                                                  0       \n",
       "2                                                  0       \n",
       "3                                                  0       \n",
       "4                                                  1       \n",
       "\n",
       "   How many days were you hospitalized for your mental illness  \\\n",
       "0                                                0.0             \n",
       "1                                                0.0             \n",
       "2                                                0.0             \n",
       "3                                                NaN             \n",
       "4                                               35.0             \n",
       "\n",
       "   I am legally disabled  I have my regular access to the internet  \\\n",
       "0                      0                                         1   \n",
       "1                      0                                         1   \n",
       "2                      0                                         1   \n",
       "3                      0                                         1   \n",
       "4                      1                                         1   \n",
       "\n",
       "   I live with my parents  I have a gap in my resume  ...  Obsessive thinking  \\\n",
       "0                       0                          1  ...                 1.0   \n",
       "1                       0                          0  ...                 0.0   \n",
       "2                       0                          0  ...                 0.0   \n",
       "3                       1                          1  ...                 0.0   \n",
       "4                       0                          1  ...                 1.0   \n",
       "\n",
       "   Mood swings  Panic attacks  Compulsive behavior  Tiredness    Age  Gender  \\\n",
       "0          0.0            1.0                  0.0        0.0  30-44    Male   \n",
       "1          0.0            1.0                  0.0        1.0  18-29    Male   \n",
       "2          0.0            0.0                  0.0        0.0  30-44    Male   \n",
       "3          0.0            0.0                  0.0        0.0  30-44    Male   \n",
       "4          1.0            1.0                  1.0        1.0  30-44    Male   \n",
       "\n",
       "    Household Income              Region               Device Type  \n",
       "0    $25,000-$49,999            Mountain    Android Phone / Tablet  \n",
       "1    $50,000-$74,999  East South Central    MacOS Desktop / Laptop  \n",
       "2  $150,000-$174,999             Pacific    MacOS Desktop / Laptop  \n",
       "3    $25,000-$49,999         New England  Windows Desktop / Laptop  \n",
       "4    $25,000-$49,999  East North Central        iOS Phone / Tablet  \n",
       "\n",
       "[5 rows x 31 columns]"
      ]
     },
     "metadata": {},
     "execution_count": 63
    }
   ],
   "metadata": {}
  },
  {
   "cell_type": "code",
   "execution_count": 64,
   "source": [
    "# Print the columns for reference\r\n",
    "df.columns"
   ],
   "outputs": [
    {
     "output_type": "execute_result",
     "data": {
      "text/plain": [
       "Index(['I am currently employed at least part-time',\n",
       "       'I identify as having a mental illness', 'Education',\n",
       "       'I have my own computer separate from a smart phone',\n",
       "       'I have been hospitalized before for my mental illness',\n",
       "       'How many days were you hospitalized for your mental illness',\n",
       "       'I am legally disabled', 'I have my regular access to the internet',\n",
       "       'I live with my parents', 'I have a gap in my resume',\n",
       "       'Total length of any gaps in my resume in�months.',\n",
       "       'Annual income (including any social welfare programs) in USD',\n",
       "       'I am unemployed', 'I read outside of work and school',\n",
       "       'Annual income from social welfare programs', 'I receive food stamps',\n",
       "       'I am on section 8 housing',\n",
       "       'How many times were you hospitalized for your mental illness',\n",
       "       'Lack of concentration', 'Anxiety', 'Depression', 'Obsessive thinking',\n",
       "       'Mood swings', 'Panic attacks', 'Compulsive behavior', 'Tiredness',\n",
       "       'Age', 'Gender', 'Household Income', 'Region', 'Device Type'],\n",
       "      dtype='object')"
      ]
     },
     "metadata": {},
     "execution_count": 64
    }
   ],
   "metadata": {}
  },
  {
   "cell_type": "code",
   "execution_count": 65,
   "source": [
    "# Create an index for each person that aggregates their mental health symptoms - the higher this index, the more of these symptoms they reported.\r\n",
    "df[\"Mental_Health_Index\"] = df[\"Lack of concentration\"] + df[\"Anxiety\"] + df[\"Depression\"] + df[\"Obsessive thinking\"] + df[\"Mood swings\"] + df[\"Panic attacks\"] + df[\"Compulsive behavior\"]"
   ],
   "outputs": [],
   "metadata": {}
  },
  {
   "cell_type": "code",
   "execution_count": 66,
   "source": [
    "# Change some column names to be more managable\r\n",
    "df[\"Unemployed\"] = df[\"I am unemployed\"]\r\n",
    "df[\"Mental_Illness\"] = df[\"I identify as having a mental illness\"]"
   ],
   "outputs": [],
   "metadata": {}
  },
  {
   "cell_type": "code",
   "execution_count": 67,
   "source": [
    "df_clean = df[[\"Unemployed\", \"Mental_Illness\", \"Mental_Health_Index\", \"Region\"]]\r\n",
    "df_clean.describe()"
   ],
   "outputs": [
    {
     "output_type": "execute_result",
     "data": {
      "text/html": [
       "<div>\n",
       "<style scoped>\n",
       "    .dataframe tbody tr th:only-of-type {\n",
       "        vertical-align: middle;\n",
       "    }\n",
       "\n",
       "    .dataframe tbody tr th {\n",
       "        vertical-align: top;\n",
       "    }\n",
       "\n",
       "    .dataframe thead th {\n",
       "        text-align: right;\n",
       "    }\n",
       "</style>\n",
       "<table border=\"1\" class=\"dataframe\">\n",
       "  <thead>\n",
       "    <tr style=\"text-align: right;\">\n",
       "      <th></th>\n",
       "      <th>Unemployed</th>\n",
       "      <th>Mental_Illness</th>\n",
       "      <th>Mental_Health_Index</th>\n",
       "    </tr>\n",
       "  </thead>\n",
       "  <tbody>\n",
       "    <tr>\n",
       "      <th>count</th>\n",
       "      <td>334.000000</td>\n",
       "      <td>334.000000</td>\n",
       "      <td>333.00000</td>\n",
       "    </tr>\n",
       "    <tr>\n",
       "      <th>mean</th>\n",
       "      <td>0.257485</td>\n",
       "      <td>0.239521</td>\n",
       "      <td>1.18018</td>\n",
       "    </tr>\n",
       "    <tr>\n",
       "      <th>std</th>\n",
       "      <td>0.437905</td>\n",
       "      <td>0.427431</td>\n",
       "      <td>1.85400</td>\n",
       "    </tr>\n",
       "    <tr>\n",
       "      <th>min</th>\n",
       "      <td>0.000000</td>\n",
       "      <td>0.000000</td>\n",
       "      <td>0.00000</td>\n",
       "    </tr>\n",
       "    <tr>\n",
       "      <th>25%</th>\n",
       "      <td>0.000000</td>\n",
       "      <td>0.000000</td>\n",
       "      <td>0.00000</td>\n",
       "    </tr>\n",
       "    <tr>\n",
       "      <th>50%</th>\n",
       "      <td>0.000000</td>\n",
       "      <td>0.000000</td>\n",
       "      <td>0.00000</td>\n",
       "    </tr>\n",
       "    <tr>\n",
       "      <th>75%</th>\n",
       "      <td>1.000000</td>\n",
       "      <td>0.000000</td>\n",
       "      <td>2.00000</td>\n",
       "    </tr>\n",
       "    <tr>\n",
       "      <th>max</th>\n",
       "      <td>1.000000</td>\n",
       "      <td>1.000000</td>\n",
       "      <td>7.00000</td>\n",
       "    </tr>\n",
       "  </tbody>\n",
       "</table>\n",
       "</div>"
      ],
      "text/plain": [
       "       Unemployed  Mental_Illness  Mental_Health_Index\n",
       "count  334.000000      334.000000            333.00000\n",
       "mean     0.257485        0.239521              1.18018\n",
       "std      0.437905        0.427431              1.85400\n",
       "min      0.000000        0.000000              0.00000\n",
       "25%      0.000000        0.000000              0.00000\n",
       "50%      0.000000        0.000000              0.00000\n",
       "75%      1.000000        0.000000              2.00000\n",
       "max      1.000000        1.000000              7.00000"
      ]
     },
     "metadata": {},
     "execution_count": 67
    }
   ],
   "metadata": {}
  },
  {
   "cell_type": "code",
   "execution_count": 68,
   "source": [
    "# Group the data by region and see if there are any that stand out. We can compare this output with heatmaps from the state data.\r\n",
    "region_group = df_clean.groupby(by = [\"Region\"])\r\n",
    "\r\n",
    "\r\n",
    "unemp = region_group[\"Unemployed\"].sum()\r\n",
    "mhi = region_group[\"Mental_Health_Index\"].mean()\r\n",
    "mi = region_group[\"Mental_Illness\"].sum()\r\n",
    "\r\n",
    "region_sum = {\r\n",
    "    \"Unemployment Count\": unemp,\r\n",
    "    \"MHI Average\": mhi,\r\n",
    "    \"Mental Illness Count\": mi\r\n",
    "}\r\n",
    "\r\n",
    "pd.DataFrame(region_sum)"
   ],
   "outputs": [
    {
     "output_type": "execute_result",
     "data": {
      "text/html": [
       "<div>\n",
       "<style scoped>\n",
       "    .dataframe tbody tr th:only-of-type {\n",
       "        vertical-align: middle;\n",
       "    }\n",
       "\n",
       "    .dataframe tbody tr th {\n",
       "        vertical-align: top;\n",
       "    }\n",
       "\n",
       "    .dataframe thead th {\n",
       "        text-align: right;\n",
       "    }\n",
       "</style>\n",
       "<table border=\"1\" class=\"dataframe\">\n",
       "  <thead>\n",
       "    <tr style=\"text-align: right;\">\n",
       "      <th></th>\n",
       "      <th>Unemployment Count</th>\n",
       "      <th>MHI Average</th>\n",
       "      <th>Mental Illness Count</th>\n",
       "    </tr>\n",
       "    <tr>\n",
       "      <th>Region</th>\n",
       "      <th></th>\n",
       "      <th></th>\n",
       "      <th></th>\n",
       "    </tr>\n",
       "  </thead>\n",
       "  <tbody>\n",
       "    <tr>\n",
       "      <th>East North Central</th>\n",
       "      <td>19</td>\n",
       "      <td>1.100000</td>\n",
       "      <td>10</td>\n",
       "    </tr>\n",
       "    <tr>\n",
       "      <th>East South Central</th>\n",
       "      <td>6</td>\n",
       "      <td>1.842105</td>\n",
       "      <td>8</td>\n",
       "    </tr>\n",
       "    <tr>\n",
       "      <th>Middle Atlantic</th>\n",
       "      <td>9</td>\n",
       "      <td>0.892857</td>\n",
       "      <td>14</td>\n",
       "    </tr>\n",
       "    <tr>\n",
       "      <th>Mountain</th>\n",
       "      <td>11</td>\n",
       "      <td>1.406250</td>\n",
       "      <td>10</td>\n",
       "    </tr>\n",
       "    <tr>\n",
       "      <th>New England</th>\n",
       "      <td>6</td>\n",
       "      <td>0.857143</td>\n",
       "      <td>5</td>\n",
       "    </tr>\n",
       "    <tr>\n",
       "      <th>Pacific</th>\n",
       "      <td>13</td>\n",
       "      <td>1.200000</td>\n",
       "      <td>12</td>\n",
       "    </tr>\n",
       "    <tr>\n",
       "      <th>South Atlantic</th>\n",
       "      <td>8</td>\n",
       "      <td>0.952381</td>\n",
       "      <td>8</td>\n",
       "    </tr>\n",
       "    <tr>\n",
       "      <th>West North Central</th>\n",
       "      <td>5</td>\n",
       "      <td>1.923077</td>\n",
       "      <td>3</td>\n",
       "    </tr>\n",
       "    <tr>\n",
       "      <th>West South Central</th>\n",
       "      <td>9</td>\n",
       "      <td>1.593750</td>\n",
       "      <td>10</td>\n",
       "    </tr>\n",
       "  </tbody>\n",
       "</table>\n",
       "</div>"
      ],
      "text/plain": [
       "                    Unemployment Count  MHI Average  Mental Illness Count\n",
       "Region                                                                   \n",
       "East North Central                  19     1.100000                    10\n",
       "East South Central                   6     1.842105                     8\n",
       "Middle Atlantic                      9     0.892857                    14\n",
       "Mountain                            11     1.406250                    10\n",
       "New England                          6     0.857143                     5\n",
       "Pacific                             13     1.200000                    12\n",
       "South Atlantic                       8     0.952381                     8\n",
       "West North Central                   5     1.923077                     3\n",
       "West South Central                   9     1.593750                    10"
      ]
     },
     "metadata": {},
     "execution_count": 68
    }
   ],
   "metadata": {}
  },
  {
   "cell_type": "code",
   "execution_count": 69,
   "source": [
    "# Create a 2x2 crosstabulation of mental illness and employment\r\n",
    "data_crosstab = pd.crosstab(df['Unemployed'],\r\n",
    "                            df['Mental_Illness'], \r\n",
    "                            margins = False)\r\n",
    "\r\n",
    "data_crosstab"
   ],
   "outputs": [
    {
     "output_type": "execute_result",
     "data": {
      "text/html": [
       "<div>\n",
       "<style scoped>\n",
       "    .dataframe tbody tr th:only-of-type {\n",
       "        vertical-align: middle;\n",
       "    }\n",
       "\n",
       "    .dataframe tbody tr th {\n",
       "        vertical-align: top;\n",
       "    }\n",
       "\n",
       "    .dataframe thead th {\n",
       "        text-align: right;\n",
       "    }\n",
       "</style>\n",
       "<table border=\"1\" class=\"dataframe\">\n",
       "  <thead>\n",
       "    <tr style=\"text-align: right;\">\n",
       "      <th>Mental_Illness</th>\n",
       "      <th>0</th>\n",
       "      <th>1</th>\n",
       "    </tr>\n",
       "    <tr>\n",
       "      <th>Unemployed</th>\n",
       "      <th></th>\n",
       "      <th></th>\n",
       "    </tr>\n",
       "  </thead>\n",
       "  <tbody>\n",
       "    <tr>\n",
       "      <th>0</th>\n",
       "      <td>197</td>\n",
       "      <td>51</td>\n",
       "    </tr>\n",
       "    <tr>\n",
       "      <th>1</th>\n",
       "      <td>57</td>\n",
       "      <td>29</td>\n",
       "    </tr>\n",
       "  </tbody>\n",
       "</table>\n",
       "</div>"
      ],
      "text/plain": [
       "Mental_Illness    0   1\n",
       "Unemployed             \n",
       "0               197  51\n",
       "1                57  29"
      ]
     },
     "metadata": {},
     "execution_count": 69
    }
   ],
   "metadata": {}
  },
  {
   "cell_type": "code",
   "execution_count": 70,
   "source": [
    "data_crosstab1 = pd.crosstab(df['Unemployed'],\r\n",
    "                            df['Mental_Illness'], \r\n",
    "                            margins = True, normalize = 'index')\r\n",
    "\r\n",
    "data_crosstab1"
   ],
   "outputs": [
    {
     "output_type": "execute_result",
     "data": {
      "text/html": [
       "<div>\n",
       "<style scoped>\n",
       "    .dataframe tbody tr th:only-of-type {\n",
       "        vertical-align: middle;\n",
       "    }\n",
       "\n",
       "    .dataframe tbody tr th {\n",
       "        vertical-align: top;\n",
       "    }\n",
       "\n",
       "    .dataframe thead th {\n",
       "        text-align: right;\n",
       "    }\n",
       "</style>\n",
       "<table border=\"1\" class=\"dataframe\">\n",
       "  <thead>\n",
       "    <tr style=\"text-align: right;\">\n",
       "      <th>Mental_Illness</th>\n",
       "      <th>0</th>\n",
       "      <th>1</th>\n",
       "    </tr>\n",
       "    <tr>\n",
       "      <th>Unemployed</th>\n",
       "      <th></th>\n",
       "      <th></th>\n",
       "    </tr>\n",
       "  </thead>\n",
       "  <tbody>\n",
       "    <tr>\n",
       "      <th>0</th>\n",
       "      <td>0.794355</td>\n",
       "      <td>0.205645</td>\n",
       "    </tr>\n",
       "    <tr>\n",
       "      <th>1</th>\n",
       "      <td>0.662791</td>\n",
       "      <td>0.337209</td>\n",
       "    </tr>\n",
       "    <tr>\n",
       "      <th>All</th>\n",
       "      <td>0.760479</td>\n",
       "      <td>0.239521</td>\n",
       "    </tr>\n",
       "  </tbody>\n",
       "</table>\n",
       "</div>"
      ],
      "text/plain": [
       "Mental_Illness         0         1\n",
       "Unemployed                        \n",
       "0               0.794355  0.205645\n",
       "1               0.662791  0.337209\n",
       "All             0.760479  0.239521"
      ]
     },
     "metadata": {},
     "execution_count": 70
    }
   ],
   "metadata": {}
  },
  {
   "cell_type": "code",
   "execution_count": 71,
   "source": [
    "data_crosstab2 = pd.crosstab(df['Unemployed'],\r\n",
    "                            df['Mental_Illness'], \r\n",
    "                            margins = True, normalize = 'columns')\r\n",
    "\r\n",
    "data_crosstab2"
   ],
   "outputs": [
    {
     "output_type": "execute_result",
     "data": {
      "text/html": [
       "<div>\n",
       "<style scoped>\n",
       "    .dataframe tbody tr th:only-of-type {\n",
       "        vertical-align: middle;\n",
       "    }\n",
       "\n",
       "    .dataframe tbody tr th {\n",
       "        vertical-align: top;\n",
       "    }\n",
       "\n",
       "    .dataframe thead th {\n",
       "        text-align: right;\n",
       "    }\n",
       "</style>\n",
       "<table border=\"1\" class=\"dataframe\">\n",
       "  <thead>\n",
       "    <tr style=\"text-align: right;\">\n",
       "      <th>Mental_Illness</th>\n",
       "      <th>0</th>\n",
       "      <th>1</th>\n",
       "      <th>All</th>\n",
       "    </tr>\n",
       "    <tr>\n",
       "      <th>Unemployed</th>\n",
       "      <th></th>\n",
       "      <th></th>\n",
       "      <th></th>\n",
       "    </tr>\n",
       "  </thead>\n",
       "  <tbody>\n",
       "    <tr>\n",
       "      <th>0</th>\n",
       "      <td>0.775591</td>\n",
       "      <td>0.6375</td>\n",
       "      <td>0.742515</td>\n",
       "    </tr>\n",
       "    <tr>\n",
       "      <th>1</th>\n",
       "      <td>0.224409</td>\n",
       "      <td>0.3625</td>\n",
       "      <td>0.257485</td>\n",
       "    </tr>\n",
       "  </tbody>\n",
       "</table>\n",
       "</div>"
      ],
      "text/plain": [
       "Mental_Illness         0       1       All\n",
       "Unemployed                                \n",
       "0               0.775591  0.6375  0.742515\n",
       "1               0.224409  0.3625  0.257485"
      ]
     },
     "metadata": {},
     "execution_count": 71
    }
   ],
   "metadata": {}
  },
  {
   "cell_type": "code",
   "execution_count": 72,
   "source": [
    "# Visualize 2x2 table as pie charts\r\n",
    "dfc = pd.DataFrame({\r\n",
    "    \"No MI\" : [197,57],\r\n",
    "    \"Diagnosed MI\" : [51,29]\r\n",
    "}, index = [\"Employed\", \"Unemployed\"])\r\n",
    "dfc.info()"
   ],
   "outputs": [
    {
     "output_type": "stream",
     "name": "stdout",
     "text": [
      "<class 'pandas.core.frame.DataFrame'>\n",
      "Index: 2 entries, Employed to Unemployed\n",
      "Data columns (total 2 columns):\n",
      " #   Column        Non-Null Count  Dtype\n",
      "---  ------        --------------  -----\n",
      " 0   No MI         2 non-null      int64\n",
      " 1   Diagnosed MI  2 non-null      int64\n",
      "dtypes: int64(2)\n",
      "memory usage: 48.0+ bytes\n"
     ]
    }
   ],
   "metadata": {}
  },
  {
   "cell_type": "code",
   "execution_count": 74,
   "source": [
    "my_colors = ['darkcyan','beige']\r\n",
    "\r\n",
    "plt.figure()\r\n",
    "dfc.plot.pie(title='Mental Illness and Unemployed Pie Charts', subplots=True, colors = my_colors, legend = False, autopct= '%1.1f%%', startangle = 130)\r\n",
    "plt.savefig(\"MIvUnemp_pies.pdf\")"
   ],
   "outputs": [
    {
     "output_type": "display_data",
     "data": {
      "text/plain": [
       "<Figure size 432x288 with 0 Axes>"
      ]
     },
     "metadata": {}
    },
    {
     "output_type": "display_data",
     "data": {
      "image/png": "[encoded data removed]",
      "text/plain": [
       "<Figure size 432x288 with 2 Axes>"
      ]
     },
     "metadata": {}
    }
   ],
   "metadata": {}
  },
  {
   "cell_type": "code",
   "execution_count": 75,
   "source": [
    "# Perform Fisher's exact test to assess statistical significance of this difference in proportions\r\n",
    "from scipy.stats import fisher_exact\r\n",
    "oddsr, p = fisher_exact(data_crosstab, alternative='two-sided')\r\n",
    "print(f\"{oddsr} , p = {p}\")"
   ],
   "outputs": [
    {
     "output_type": "stream",
     "name": "stdout",
     "text": [
      "1.9652562779497764 , p = 0.018596040841831637\n"
     ]
    }
   ],
   "metadata": {}
  },
  {
   "cell_type": "markdown",
   "source": [
    "The next few cells, we tried using plt.boxplot to make boxplots of the Mental Health Indices by employment status but were unsuccessful"
   ],
   "metadata": {}
  },
  {
   "cell_type": "code",
   "execution_count": 76,
   "source": [
    "mhi_emp = df.loc[df[\"Unemployed\"] == 0][\"Mental_Health_Index\"]\r\n",
    "\r\n",
    "mhi_unemp = df.loc[df[\"Unemployed\"] == 1][\"Mental_Health_Index\"]\r\n",
    "data = [mhi_emp, mhi_unemp]\r\n",
    "\r\n",
    "plt.boxplot(data, labels=[\"mhi_emp\", \"mhi_unemp\"])\r\n"
   ],
   "outputs": [
    {
     "output_type": "execute_result",
     "data": {
      "text/plain": [
       "{'whiskers': [<matplotlib.lines.Line2D at 0x15a2a296f40>,\n",
       "  <matplotlib.lines.Line2D at 0x15a2a2a52e0>,\n",
       "  <matplotlib.lines.Line2D at 0x15a2a2b1790>,\n",
       "  <matplotlib.lines.Line2D at 0x15a2a2b1af0>],\n",
       " 'caps': [<matplotlib.lines.Line2D at 0x15a2a2a5640>,\n",
       "  <matplotlib.lines.Line2D at 0x15a2a2a59a0>,\n",
       "  <matplotlib.lines.Line2D at 0x15a2a2b1e50>,\n",
       "  <matplotlib.lines.Line2D at 0x15a2a2bd1f0>],\n",
       " 'boxes': [<matplotlib.lines.Line2D at 0x15a2a296be0>,\n",
       "  <matplotlib.lines.Line2D at 0x15a2a2b1430>],\n",
       " 'medians': [<matplotlib.lines.Line2D at 0x15a2a2a5d00>,\n",
       "  <matplotlib.lines.Line2D at 0x15a2a2bd550>],\n",
       " 'fliers': [<matplotlib.lines.Line2D at 0x15a2a2b10d0>,\n",
       "  <matplotlib.lines.Line2D at 0x15a2a2bd8b0>],\n",
       " 'means': []}"
      ]
     },
     "metadata": {},
     "execution_count": 76
    },
    {
     "output_type": "display_data",
     "data": {
      "image/png": "[encoded data removed]",
      "text/plain": [
       "<Figure size 432x288 with 1 Axes>"
      ]
     },
     "metadata": {
      "needs_background": "light"
     }
    }
   ],
   "metadata": {}
  },
  {
   "cell_type": "code",
   "execution_count": 77,
   "source": [
    "print(mhi_emp.max())\r\n",
    "print(mhi_emp.mean())\r\n",
    "print(mhi_emp.median())\r\n",
    "quartiles = mhi_emp.quantile([.25,.5,.75])\r\n",
    "print(quartiles)"
   ],
   "outputs": [
    {
     "output_type": "stream",
     "name": "stdout",
     "text": [
      "7.0\n",
      "0.9635627530364372\n",
      "0.0\n",
      "0.25    0.0\n",
      "0.50    0.0\n",
      "0.75    1.0\n",
      "Name: Mental_Health_Index, dtype: float64\n"
     ]
    }
   ],
   "metadata": {}
  },
  {
   "cell_type": "code",
   "execution_count": 78,
   "source": [
    "print(mhi_unemp.max())\r\n",
    "print(mhi_unemp.mean())\r\n",
    "print(mhi_unemp.median())\r\n",
    "quartiles = mhi_unemp.quantile([.25,.5,.75])\r\n",
    "print(quartiles)"
   ],
   "outputs": [
    {
     "output_type": "stream",
     "name": "stdout",
     "text": [
      "7.0\n",
      "1.802325581395349\n",
      "1.0\n",
      "0.25    0.0\n",
      "0.50    1.0\n",
      "0.75    3.0\n",
      "Name: Mental_Health_Index, dtype: float64\n"
     ]
    }
   ],
   "metadata": {}
  },
  {
   "cell_type": "code",
   "execution_count": 79,
   "source": [
    "mhi_mi = df.loc[df[\"Mental_Illness\"] == 1][\"Mental_Health_Index\"]\r\n",
    "\r\n",
    "mhi_nmi = df.loc[df[\"Mental_Illness\"] == 0][\"Mental_Health_Index\"]\r\n",
    "data = [mhi_mi, mhi_nmi]\r\n",
    "\r\n",
    "plt.boxplot(data, labels=[\"mhi_mi\", \"mhi_nmi\"])"
   ],
   "outputs": [
    {
     "output_type": "execute_result",
     "data": {
      "text/plain": [
       "{'whiskers': [<matplotlib.lines.Line2D at 0x15a2a31b340>,\n",
       "  <matplotlib.lines.Line2D at 0x15a2a31b6a0>,\n",
       "  <matplotlib.lines.Line2D at 0x15a2a328b20>,\n",
       "  <matplotlib.lines.Line2D at 0x15a2a328e80>],\n",
       " 'caps': [<matplotlib.lines.Line2D at 0x15a2a31ba00>,\n",
       "  <matplotlib.lines.Line2D at 0x15a2a31bd60>,\n",
       "  <matplotlib.lines.Line2D at 0x15a2a334220>,\n",
       "  <matplotlib.lines.Line2D at 0x15a2a334580>],\n",
       " 'boxes': [<matplotlib.lines.Line2D at 0x15a2a30dfd0>,\n",
       "  <matplotlib.lines.Line2D at 0x15a2a3287c0>],\n",
       " 'medians': [<matplotlib.lines.Line2D at 0x15a2a328100>,\n",
       "  <matplotlib.lines.Line2D at 0x15a2a3348e0>],\n",
       " 'fliers': [<matplotlib.lines.Line2D at 0x15a2a328460>,\n",
       "  <matplotlib.lines.Line2D at 0x15a2a334c40>],\n",
       " 'means': []}"
      ]
     },
     "metadata": {},
     "execution_count": 79
    },
    {
     "output_type": "display_data",
     "data": {
      "image/png": "[encoded data removed]",
      "text/plain": [
       "<Figure size 432x288 with 1 Axes>"
      ]
     },
     "metadata": {
      "needs_background": "light"
     }
    }
   ],
   "metadata": {}
  },
  {
   "cell_type": "code",
   "execution_count": 80,
   "source": [
    "print(mhi_mi.max())\r\n",
    "print(mhi_mi.min())\r\n",
    "print(mhi_mi.mean())\r\n",
    "print(mhi_mi.median())\r\n",
    "quartiles = mhi_mi.quantile([.25,.5,.75])\r\n",
    "print(quartiles)"
   ],
   "outputs": [
    {
     "output_type": "stream",
     "name": "stdout",
     "text": [
      "7.0\n",
      "0.0\n",
      "3.430379746835443\n",
      "3.0\n",
      "0.25    2.0\n",
      "0.50    3.0\n",
      "0.75    5.0\n",
      "Name: Mental_Health_Index, dtype: float64\n"
     ]
    }
   ],
   "metadata": {}
  },
  {
   "cell_type": "markdown",
   "source": [
    "Here, we finally get boxplots using pandas."
   ],
   "metadata": {}
  },
  {
   "cell_type": "code",
   "execution_count": 81,
   "source": [
    "df_mhi = df[[\"Mental_Health_Index\", \"Unemployed\"]]\r\n",
    "df_mhi.boxplot(by = \"Unemployed\")\r\n",
    "plt.title(\"Mental Health Index Distribution by Unemployment\")\r\n",
    "plt.suptitle(\"\")\r\n",
    "plt.ylabel(\"Mental Health Index\")\r\n",
    "plt.xlabel(\"Unemployment Status\")\r\n",
    "plt.xticks([1,2], labels = [\"Employed\", \"Not Employed\"], rotation = 90)"
   ],
   "outputs": [
    {
     "output_type": "execute_result",
     "data": {
      "text/plain": [
       "([<matplotlib.axis.XTick at 0x15a2a36cf10>,\n",
       "  <matplotlib.axis.XTick at 0x15a2a36cee0>],\n",
       " [Text(1, 0, 'Employed'), Text(2, 0, 'Not Employed')])"
      ]
     },
     "metadata": {},
     "execution_count": 81
    },
    {
     "output_type": "display_data",
     "data": {
      "image/png": "[encoded data removed]",
      "text/plain": [
       "<Figure size 432x288 with 1 Axes>"
      ]
     },
     "metadata": {
      "needs_background": "light"
     }
    }
   ],
   "metadata": {}
  },
  {
   "cell_type": "code",
   "execution_count": null,
   "source": [
    "df_mhi = df[[\"Mental_Health_Index\", \"Mental_Illness\"]]\r\n",
    "df_mhi.boxplot(by = \"Mental_Illness\")\r\n",
    "\r\n",
    "plt.title(\"Mental Health Index Distribution by Mental Illness Status\")\r\n",
    "plt.suptitle(\"\")\r\n",
    "plt.ylabel(\"Mental Health Index\")\r\n",
    "plt.xlabel(\"Mental Illness Status\")\r\n",
    "plt.xticks([1,2], labels = [\"Not Diagnosed\", \"Diagnosed\"], rotation = 90)"
   ],
   "outputs": [
    {
     "output_type": "execute_result",
     "data": {
      "text/plain": [
       "([<matplotlib.axis.XTick at 0x2741ad121c0>,\n",
       "  <matplotlib.axis.XTick at 0x2741a99b8b0>],\n",
       " [Text(1, 0, 'Not Diagnosed'), Text(2, 0, 'Diagnosed')])"
      ]
     },
     "metadata": {},
     "execution_count": 40
    },
    {
     "output_type": "display_data",
     "data": {
      "image/png": "[encoded data removed]",
      "text/plain": [
       "<Figure size 432x288 with 1 Axes>"
      ]
     },
     "metadata": {
      "needs_background": "light"
     }
    }
   ],
   "metadata": {}
  }
 ],
 "metadata": {
  "orig_nbformat": 4,
  "language_info": {
   "name": "python",
   "version": "3.8.8",
   "mimetype": "text/x-python",
   "codemirror_mode": {
    "name": "ipython",
    "version": 3
   },
   "pygments_lexer": "ipython3",
   "nbconvert_exporter": "python",
   "file_extension": ".py"
  },
  "kernelspec": {
   "name": "python3",
   "display_name": "Python 3.8.8 64-bit ('base': conda)"
  },
  "interpreter": {
   "hash": "a8894775e8aeee242aa6e141c386e0510b6f2108a9b3d20c3f118f8cb925642c"
  }
 },
 "nbformat": 4,
 "nbformat_minor": 2
}