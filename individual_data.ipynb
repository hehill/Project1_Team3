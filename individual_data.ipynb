{
 "cells": [
  {
   "cell_type": "code",
   "execution_count": 1,
   "source": [
    "import matplotlib.pyplot as plt\r\n",
    "import numpy as np\r\n",
    "import pandas as pd\r\n",
    "import scipy.stats as st\r\n",
    "from scipy.stats import linregress\r\n",
    "from scipy.stats import sem\r\n",
    "\r\n",
    "df_path = \"Kaggle_data.xlsx\""
   ],
   "outputs": [],
   "metadata": {}
  },
  {
   "cell_type": "code",
   "execution_count": 2,
   "source": [
    "df = pd.read_excel(\"Kaggle_data.xlsx\")\r\n",
    "df.head()"
   ],
   "outputs": [
    {
     "output_type": "execute_result",
     "data": {
      "text/html": [
       "<div>\n",
       "<style scoped>\n",
       "    .dataframe tbody tr th:only-of-type {\n",
       "        vertical-align: middle;\n",
       "    }\n",
       "\n",
       "    .dataframe tbody tr th {\n",
       "        vertical-align: top;\n",
       "    }\n",
       "\n",
       "    .dataframe thead th {\n",
       "        text-align: right;\n",
       "    }\n",
       "</style>\n",
       "<table border=\"1\" class=\"dataframe\">\n",
       "  <thead>\n",
       "    <tr style=\"text-align: right;\">\n",
       "      <th></th>\n",
       "      <th>I am currently employed at least part-time</th>\n",
       "      <th>I identify as having a mental illness</th>\n",
       "      <th>Education</th>\n",
       "      <th>I have my own computer separate from a smart phone</th>\n",
       "      <th>I have been hospitalized before for my mental illness</th>\n",
       "      <th>How many days were you hospitalized for your mental illness</th>\n",
       "      <th>I am legally disabled</th>\n",
       "      <th>I have my regular access to the internet</th>\n",
       "      <th>I live with my parents</th>\n",
       "      <th>I have a gap in my resume</th>\n",
       "      <th>...</th>\n",
       "      <th>Obsessive thinking</th>\n",
       "      <th>Mood swings</th>\n",
       "      <th>Panic attacks</th>\n",
       "      <th>Compulsive behavior</th>\n",
       "      <th>Tiredness</th>\n",
       "      <th>Age</th>\n",
       "      <th>Gender</th>\n",
       "      <th>Household Income</th>\n",
       "      <th>Region</th>\n",
       "      <th>Device Type</th>\n",
       "    </tr>\n",
       "  </thead>\n",
       "  <tbody>\n",
       "    <tr>\n",
       "      <th>0</th>\n",
       "      <td>0</td>\n",
       "      <td>0</td>\n",
       "      <td>High School or GED</td>\n",
       "      <td>0</td>\n",
       "      <td>0</td>\n",
       "      <td>0.0</td>\n",
       "      <td>0</td>\n",
       "      <td>1</td>\n",
       "      <td>0</td>\n",
       "      <td>1</td>\n",
       "      <td>...</td>\n",
       "      <td>1.0</td>\n",
       "      <td>0.0</td>\n",
       "      <td>1.0</td>\n",
       "      <td>0.0</td>\n",
       "      <td>0.0</td>\n",
       "      <td>30-44</td>\n",
       "      <td>Male</td>\n",
       "      <td>$25,000-$49,999</td>\n",
       "      <td>Mountain</td>\n",
       "      <td>Android Phone / Tablet</td>\n",
       "    </tr>\n",
       "    <tr>\n",
       "      <th>1</th>\n",
       "      <td>1</td>\n",
       "      <td>1</td>\n",
       "      <td>Some Phd</td>\n",
       "      <td>1</td>\n",
       "      <td>0</td>\n",
       "      <td>0.0</td>\n",
       "      <td>0</td>\n",
       "      <td>1</td>\n",
       "      <td>0</td>\n",
       "      <td>0</td>\n",
       "      <td>...</td>\n",
       "      <td>0.0</td>\n",
       "      <td>0.0</td>\n",
       "      <td>1.0</td>\n",
       "      <td>0.0</td>\n",
       "      <td>1.0</td>\n",
       "      <td>18-29</td>\n",
       "      <td>Male</td>\n",
       "      <td>$50,000-$74,999</td>\n",
       "      <td>East South Central</td>\n",
       "      <td>MacOS Desktop / Laptop</td>\n",
       "    </tr>\n",
       "    <tr>\n",
       "      <th>2</th>\n",
       "      <td>1</td>\n",
       "      <td>0</td>\n",
       "      <td>Completed Undergraduate</td>\n",
       "      <td>1</td>\n",
       "      <td>0</td>\n",
       "      <td>0.0</td>\n",
       "      <td>0</td>\n",
       "      <td>1</td>\n",
       "      <td>0</td>\n",
       "      <td>0</td>\n",
       "      <td>...</td>\n",
       "      <td>0.0</td>\n",
       "      <td>0.0</td>\n",
       "      <td>0.0</td>\n",
       "      <td>0.0</td>\n",
       "      <td>0.0</td>\n",
       "      <td>30-44</td>\n",
       "      <td>Male</td>\n",
       "      <td>$150,000-$174,999</td>\n",
       "      <td>Pacific</td>\n",
       "      <td>MacOS Desktop / Laptop</td>\n",
       "    </tr>\n",
       "    <tr>\n",
       "      <th>3</th>\n",
       "      <td>0</td>\n",
       "      <td>0</td>\n",
       "      <td>Some Undergraduate</td>\n",
       "      <td>1</td>\n",
       "      <td>0</td>\n",
       "      <td>NaN</td>\n",
       "      <td>0</td>\n",
       "      <td>1</td>\n",
       "      <td>1</td>\n",
       "      <td>1</td>\n",
       "      <td>...</td>\n",
       "      <td>0.0</td>\n",
       "      <td>0.0</td>\n",
       "      <td>0.0</td>\n",
       "      <td>0.0</td>\n",
       "      <td>0.0</td>\n",
       "      <td>30-44</td>\n",
       "      <td>Male</td>\n",
       "      <td>$25,000-$49,999</td>\n",
       "      <td>New England</td>\n",
       "      <td>Windows Desktop / Laptop</td>\n",
       "    </tr>\n",
       "    <tr>\n",
       "      <th>4</th>\n",
       "      <td>1</td>\n",
       "      <td>1</td>\n",
       "      <td>Completed Undergraduate</td>\n",
       "      <td>1</td>\n",
       "      <td>1</td>\n",
       "      <td>35.0</td>\n",
       "      <td>1</td>\n",
       "      <td>1</td>\n",
       "      <td>0</td>\n",
       "      <td>1</td>\n",
       "      <td>...</td>\n",
       "      <td>1.0</td>\n",
       "      <td>1.0</td>\n",
       "      <td>1.0</td>\n",
       "      <td>1.0</td>\n",
       "      <td>1.0</td>\n",
       "      <td>30-44</td>\n",
       "      <td>Male</td>\n",
       "      <td>$25,000-$49,999</td>\n",
       "      <td>East North Central</td>\n",
       "      <td>iOS Phone / Tablet</td>\n",
       "    </tr>\n",
       "  </tbody>\n",
       "</table>\n",
       "<p>5 rows × 31 columns</p>\n",
       "</div>"
      ],
      "text/plain": [
       "   I am currently employed at least part-time  \\\n",
       "0                                           0   \n",
       "1                                           1   \n",
       "2                                           1   \n",
       "3                                           0   \n",
       "4                                           1   \n",
       "\n",
       "   I identify as having a mental illness                Education  \\\n",
       "0                                      0       High School or GED   \n",
       "1                                      1                 Some Phd   \n",
       "2                                      0  Completed Undergraduate   \n",
       "3                                      0       Some Undergraduate   \n",
       "4                                      1  Completed Undergraduate   \n",
       "\n",
       "   I have my own computer separate from a smart phone  \\\n",
       "0                                                  0    \n",
       "1                                                  1    \n",
       "2                                                  1    \n",
       "3                                                  1    \n",
       "4                                                  1    \n",
       "\n",
       "   I have been hospitalized before for my mental illness  \\\n",
       "0                                                  0       \n",
       "1                                                  0       \n",
       "2                                                  0       \n",
       "3                                                  0       \n",
       "4                                                  1       \n",
       "\n",
       "   How many days were you hospitalized for your mental illness  \\\n",
       "0                                                0.0             \n",
       "1                                                0.0             \n",
       "2                                                0.0             \n",
       "3                                                NaN             \n",
       "4                                               35.0             \n",
       "\n",
       "   I am legally disabled  I have my regular access to the internet  \\\n",
       "0                      0                                         1   \n",
       "1                      0                                         1   \n",
       "2                      0                                         1   \n",
       "3                      0                                         1   \n",
       "4                      1                                         1   \n",
       "\n",
       "   I live with my parents  I have a gap in my resume  ...  Obsessive thinking  \\\n",
       "0                       0                          1  ...                 1.0   \n",
       "1                       0                          0  ...                 0.0   \n",
       "2                       0                          0  ...                 0.0   \n",
       "3                       1                          1  ...                 0.0   \n",
       "4                       0                          1  ...                 1.0   \n",
       "\n",
       "   Mood swings  Panic attacks  Compulsive behavior  Tiredness    Age  Gender  \\\n",
       "0          0.0            1.0                  0.0        0.0  30-44    Male   \n",
       "1          0.0            1.0                  0.0        1.0  18-29    Male   \n",
       "2          0.0            0.0                  0.0        0.0  30-44    Male   \n",
       "3          0.0            0.0                  0.0        0.0  30-44    Male   \n",
       "4          1.0            1.0                  1.0        1.0  30-44    Male   \n",
       "\n",
       "    Household Income              Region               Device Type  \n",
       "0    $25,000-$49,999            Mountain    Android Phone / Tablet  \n",
       "1    $50,000-$74,999  East South Central    MacOS Desktop / Laptop  \n",
       "2  $150,000-$174,999             Pacific    MacOS Desktop / Laptop  \n",
       "3    $25,000-$49,999         New England  Windows Desktop / Laptop  \n",
       "4    $25,000-$49,999  East North Central        iOS Phone / Tablet  \n",
       "\n",
       "[5 rows x 31 columns]"
      ]
     },
     "metadata": {},
     "execution_count": 2
    }
   ],
   "metadata": {}
  },
  {
   "cell_type": "code",
   "execution_count": 3,
   "source": [
    "df.columns"
   ],
   "outputs": [
    {
     "output_type": "execute_result",
     "data": {
      "text/plain": [
       "Index(['I am currently employed at least part-time',\n",
       "       'I identify as having a mental illness', 'Education',\n",
       "       'I have my own computer separate from a smart phone',\n",
       "       'I have been hospitalized before for my mental illness',\n",
       "       'How many days were you hospitalized for your mental illness',\n",
       "       'I am legally disabled', 'I have my regular access to the internet',\n",
       "       'I live with my parents', 'I have a gap in my resume',\n",
       "       'Total length of any gaps in my resume in months.',\n",
       "       'Annual income (including any social welfare programs) in USD',\n",
       "       'I am unemployed', 'I read outside of work and school',\n",
       "       'Annual income from social welfare programs', 'I receive food stamps',\n",
       "       'I am on section 8 housing',\n",
       "       'How many times were you hospitalized for your mental illness',\n",
       "       'Lack of concentration', 'Anxiety', 'Depression', 'Obsessive thinking',\n",
       "       'Mood swings', 'Panic attacks', 'Compulsive behavior', 'Tiredness',\n",
       "       'Age', 'Gender', 'Household Income', 'Region', 'Device Type'],\n",
       "      dtype='object')"
      ]
     },
     "metadata": {},
     "execution_count": 3
    }
   ],
   "metadata": {}
  },
  {
   "cell_type": "code",
   "execution_count": 4,
   "source": [
    "df[\"Mental_Health_Index\"] = df[\"Lack of concentration\"] + df[\"Anxiety\"] + df[\"Depression\"] + df[\"Obsessive thinking\"] + df[\"Mood swings\"] + df[\"Panic attacks\"] + df[\"Compulsive behavior\"]"
   ],
   "outputs": [],
   "metadata": {}
  },
  {
   "cell_type": "code",
   "execution_count": 5,
   "source": [
    "df[\"Unemployed\"] = df[\"I am unemployed\"]\r\n",
    "df[\"Mental_Illness\"] = df[\"I identify as having a mental illness\"]"
   ],
   "outputs": [],
   "metadata": {}
  },
  {
   "cell_type": "code",
   "execution_count": 6,
   "source": [
    "df_clean = df[[\"Unemployed\", \"Mental_Illness\", \"Mental_Health_Index\"]]\r\n",
    "df_clean.describe()"
   ],
   "outputs": [
    {
     "output_type": "execute_result",
     "data": {
      "text/html": [
       "<div>\n",
       "<style scoped>\n",
       "    .dataframe tbody tr th:only-of-type {\n",
       "        vertical-align: middle;\n",
       "    }\n",
       "\n",
       "    .dataframe tbody tr th {\n",
       "        vertical-align: top;\n",
       "    }\n",
       "\n",
       "    .dataframe thead th {\n",
       "        text-align: right;\n",
       "    }\n",
       "</style>\n",
       "<table border=\"1\" class=\"dataframe\">\n",
       "  <thead>\n",
       "    <tr style=\"text-align: right;\">\n",
       "      <th></th>\n",
       "      <th>Unemployed</th>\n",
       "      <th>Mental_Illness</th>\n",
       "      <th>Mental_Health_Index</th>\n",
       "    </tr>\n",
       "  </thead>\n",
       "  <tbody>\n",
       "    <tr>\n",
       "      <th>count</th>\n",
       "      <td>334.000000</td>\n",
       "      <td>334.000000</td>\n",
       "      <td>333.00000</td>\n",
       "    </tr>\n",
       "    <tr>\n",
       "      <th>mean</th>\n",
       "      <td>0.257485</td>\n",
       "      <td>0.239521</td>\n",
       "      <td>1.18018</td>\n",
       "    </tr>\n",
       "    <tr>\n",
       "      <th>std</th>\n",
       "      <td>0.437905</td>\n",
       "      <td>0.427431</td>\n",
       "      <td>1.85400</td>\n",
       "    </tr>\n",
       "    <tr>\n",
       "      <th>min</th>\n",
       "      <td>0.000000</td>\n",
       "      <td>0.000000</td>\n",
       "      <td>0.00000</td>\n",
       "    </tr>\n",
       "    <tr>\n",
       "      <th>25%</th>\n",
       "      <td>0.000000</td>\n",
       "      <td>0.000000</td>\n",
       "      <td>0.00000</td>\n",
       "    </tr>\n",
       "    <tr>\n",
       "      <th>50%</th>\n",
       "      <td>0.000000</td>\n",
       "      <td>0.000000</td>\n",
       "      <td>0.00000</td>\n",
       "    </tr>\n",
       "    <tr>\n",
       "      <th>75%</th>\n",
       "      <td>1.000000</td>\n",
       "      <td>0.000000</td>\n",
       "      <td>2.00000</td>\n",
       "    </tr>\n",
       "    <tr>\n",
       "      <th>max</th>\n",
       "      <td>1.000000</td>\n",
       "      <td>1.000000</td>\n",
       "      <td>7.00000</td>\n",
       "    </tr>\n",
       "  </tbody>\n",
       "</table>\n",
       "</div>"
      ],
      "text/plain": [
       "       Unemployed  Mental_Illness  Mental_Health_Index\n",
       "count  334.000000      334.000000            333.00000\n",
       "mean     0.257485        0.239521              1.18018\n",
       "std      0.437905        0.427431              1.85400\n",
       "min      0.000000        0.000000              0.00000\n",
       "25%      0.000000        0.000000              0.00000\n",
       "50%      0.000000        0.000000              0.00000\n",
       "75%      1.000000        0.000000              2.00000\n",
       "max      1.000000        1.000000              7.00000"
      ]
     },
     "metadata": {},
     "execution_count": 6
    }
   ],
   "metadata": {}
  },
  {
   "cell_type": "code",
   "execution_count": 42,
   "source": [
    "title = [\"Unemployed\",\"Mental_Illness\",\"Mental_Health_Index\"]\r\n",
    "statistics = [\"count\", \"mean\", \"std\",\"min\", \"25%\", \"50%\", \"75%\",\"max\"]\r\n",
    "points = np.array([[334.00, 0.257485, 0.437905, 0.00, 0.00, 0.00, 1.00,1.00],[334.00, 0.239521, 0.427431, 0.00, 0.00, 0.00, 0.00,1.00],[333.00, 1.18018, 1.85400, 0.00, 0.00, 0.00, 2.00,7.00]])\r\n",
    "fig, ax = plt.subplots()\r\n",
    "im = ax.imshow(points)\r\n",
    "ax.set_xticks(np.arange(len(statistics)))\r\n",
    "ax.set_yticks(np.arange(len(title)))\r\n",
    "ax.set_xticklabels(statistics)\r\n",
    "ax.set_yticklabels(title)\r\n",
    "plt.setp(ax.get_xticklabels(), rotation=45, ha=\"right\",\r\n",
    "         rotation_mode=\"anchor\")\r\n",
    "for i in range(len(title)):\r\n",
    "    for j in range(len(statistics)):\r\n",
    "        text = ax.text(j, i, points[i, j],\r\n",
    "                       ha=\"center\", va=\"center\", color=\"w\")\r\n",
    "ax.set_title(\"Heatmap\")\r\n",
    "fig.tight_layout()\r\n",
    "plt.show()\r\n"
   ],
   "outputs": [
    {
     "output_type": "display_data",
     "data": {
      "image/png": "[encoded data removed]",
      "text/plain": [
       "<Figure size 432x288 with 1 Axes>"
      ]
     },
     "metadata": {
      "needs_background": "light"
     }
    }
   ],
   "metadata": {}
  },
  {
   "cell_type": "code",
   "execution_count": 7,
   "source": [
    "data_crosstab = pd.crosstab(df['Unemployed'],\r\n",
    "                            df['Mental_Illness'], \r\n",
    "                            margins = False)\r\n",
    "print(data_crosstab)"
   ],
   "outputs": [
    {
     "output_type": "stream",
     "name": "stdout",
     "text": [
      "Mental_Illness    0   1\n",
      "Unemployed             \n",
      "0               197  51\n",
      "1                57  29\n"
     ]
    }
   ],
   "metadata": {}
  },
  {
   "cell_type": "code",
   "execution_count": 25,
   "source": [
    "plt.figure(); data_crosstab.plot.pie(title=' Mental Illness and Unemployed Pie Charts', colors=['darkcyan','beige'],autopct='%.1f%%', subplots=True) "
   ],
   "outputs": [
    {
     "output_type": "execute_result",
     "data": {
      "text/plain": [
       "array([<AxesSubplot:ylabel='0'>, <AxesSubplot:ylabel='1'>], dtype=object)"
      ]
     },
     "metadata": {},
     "execution_count": 25
    },
    {
     "output_type": "display_data",
     "data": {
      "text/plain": [
       "<Figure size 432x288 with 0 Axes>"
      ]
     },
     "metadata": {}
    },
    {
     "output_type": "display_data",
     "data": {
      "image/png": "[encoded data removed]",
      "text/plain": [
       "<Figure size 432x288 with 2 Axes>"
      ]
     },
     "metadata": {}
    }
   ],
   "metadata": {}
  },
  {
   "cell_type": "code",
   "execution_count": 8,
   "source": [
    "from scipy.stats import fisher_exact\r\n",
    "oddsr, p = fisher_exact(data_crosstab, alternative='two-sided')\r\n",
    "print(f\"{oddsr} , p = {p}\")"
   ],
   "outputs": [
    {
     "output_type": "stream",
     "name": "stdout",
     "text": [
      "1.9652562779497764 , p = 0.018596040841831637\n"
     ]
    }
   ],
   "metadata": {}
  },
  {
   "cell_type": "code",
   "execution_count": 11,
   "source": [
    "x=df[\"Mental_Health_Index\"].astype(float)\r\n",
    "y=df[\"Unemployed\"].astype(float)\r\n",
    "(slope, intercept, rvalue, pvalue, stderr) = linregress(x, y)\r\n",
    "regress_values = x * slope + intercept\r\n",
    "line_eq = \"y = \" + str(round(slope,2)) + \"x + \" + str(round(intercept,2))\r\n",
    "plt.scatter(x, y)\r\n",
    "plt.plot(x,regress_values,\"r-\")\r\n",
    "plt.annotate(line_eq,(0,0),fontsize=15,color=\"red\")\r\n",
    "plt.xlabel(\"Mental_Health_Index\")\r\n",
    "plt.ylabel(\"Unemployed\")\r\n",
    "plt.show()"
   ],
   "outputs": [
    {
     "output_type": "display_data",
     "data": {
      "image/png": "[encoded data removed]",
      "text/plain": [
       "<Figure size 432x288 with 1 Axes>"
      ]
     },
     "metadata": {
      "needs_background": "light"
     }
    }
   ],
   "metadata": {}
  },
  {
   "cell_type": "code",
   "execution_count": 37,
   "source": [
    "import matplotlib.pyplot as plt\r\n",
    "from matplotlib_venn import venn2\r\n",
    "venn2([set('Mental_Health_Index'),set('Unemployed')],set_labels = ('Mental_Health_Index', 'Unemployed'))\r\n",
    "plt.show()"
   ],
   "outputs": [
    {
     "output_type": "display_data",
     "data": {
      "image/png": "[encoded data removed]",
      "text/plain": [
       "<Figure size 432x288 with 1 Axes>"
      ]
     },
     "metadata": {}
    }
   ],
   "metadata": {}
  },
  {
   "cell_type": "code",
   "execution_count": 12,
   "source": [
    "#from matplotlib_venn import venn2\r\n",
    "mhi_emp = df.loc[df[\"Unemployed\"] == 0][\"Mental_Health_Index\"]\r\n",
    "\r\n",
    "mhi_unemp = df.loc[df[\"Unemployed\"] == 1][\"Mental_Health_Index\"]\r\n",
    "data = [mhi_emp, mhi_unemp]\r\n",
    "\r\n",
    "plt.boxplot(data, labels=[\"mhi_emp\", \"mhi_unemp\"])\r\n"
   ],
   "outputs": [
    {
     "output_type": "execute_result",
     "data": {
      "text/plain": [
       "{'whiskers': [<matplotlib.lines.Line2D at 0x27419ee9e50>,\n",
       "  <matplotlib.lines.Line2D at 0x27419ef71f0>,\n",
       "  <matplotlib.lines.Line2D at 0x27419f006a0>,\n",
       "  <matplotlib.lines.Line2D at 0x27419f00a00>],\n",
       " 'caps': [<matplotlib.lines.Line2D at 0x27419ef7550>,\n",
       "  <matplotlib.lines.Line2D at 0x27419ef78b0>,\n",
       "  <matplotlib.lines.Line2D at 0x27419f00d60>,\n",
       "  <matplotlib.lines.Line2D at 0x27419f0d100>],\n",
       " 'boxes': [<matplotlib.lines.Line2D at 0x27419ee9af0>,\n",
       "  <matplotlib.lines.Line2D at 0x27419f00310>],\n",
       " 'medians': [<matplotlib.lines.Line2D at 0x27419ef7c10>,\n",
       "  <matplotlib.lines.Line2D at 0x27419f0d460>],\n",
       " 'fliers': [<matplotlib.lines.Line2D at 0x27419ef7f70>,\n",
       "  <matplotlib.lines.Line2D at 0x27419f0d7c0>],\n",
       " 'means': []}"
      ]
     },
     "metadata": {},
     "execution_count": 12
    },
    {
     "output_type": "display_data",
     "data": {
      "image/png": "[encoded data removed]",
      "text/plain": [
       "<Figure size 432x288 with 1 Axes>"
      ]
     },
     "metadata": {
      "needs_background": "light"
     }
    }
   ],
   "metadata": {}
  },
  {
   "cell_type": "code",
   "execution_count": 13,
   "source": [
    "print(mhi_emp.max())\r\n",
    "print(mhi_emp.mean())\r\n",
    "print(mhi_emp.median())\r\n",
    "quartiles = mhi_emp.quantile([.25,.5,.75])\r\n",
    "print(quartiles)"
   ],
   "outputs": [
    {
     "output_type": "stream",
     "name": "stdout",
     "text": [
      "7.0\n",
      "0.9635627530364372\n",
      "0.0\n",
      "0.25    0.0\n",
      "0.50    0.0\n",
      "0.75    1.0\n",
      "Name: Mental_Health_Index, dtype: float64\n"
     ]
    }
   ],
   "metadata": {}
  },
  {
   "cell_type": "code",
   "execution_count": 14,
   "source": [
    "print(mhi_unemp.max())\r\n",
    "print(mhi_unemp.mean())\r\n",
    "print(mhi_unemp.median())\r\n",
    "quartiles = mhi_unemp.quantile([.25,.5,.75])\r\n",
    "print(quartiles)"
   ],
   "outputs": [
    {
     "output_type": "stream",
     "name": "stdout",
     "text": [
      "7.0\n",
      "1.802325581395349\n",
      "1.0\n",
      "0.25    0.0\n",
      "0.50    1.0\n",
      "0.75    3.0\n",
      "Name: Mental_Health_Index, dtype: float64\n"
     ]
    }
   ],
   "metadata": {}
  },
  {
   "cell_type": "code",
   "execution_count": 21,
   "source": [
    "from scipy.stats import chisquare\r\n",
    "chisquare(mhi_unemp, mhi_emp)"
   ],
   "outputs": [
    {
     "output_type": "error",
     "ename": "ValueError",
     "evalue": "operands could not be broadcast together with shapes (86,) (248,) ",
     "traceback": [
      "\u001b[1;31m---------------------------------------------------------------------------\u001b[0m",
      "\u001b[1;31mValueError\u001b[0m                                Traceback (most recent call last)",
      "\u001b[1;32m<ipython-input-21-b68b938605f2>\u001b[0m in \u001b[0;36m<module>\u001b[1;34m\u001b[0m\n\u001b[0;32m      1\u001b[0m \u001b[1;32mfrom\u001b[0m \u001b[0mscipy\u001b[0m\u001b[1;33m.\u001b[0m\u001b[0mstats\u001b[0m \u001b[1;32mimport\u001b[0m \u001b[0mchisquare\u001b[0m\u001b[1;33m\u001b[0m\u001b[1;33m\u001b[0m\u001b[0m\n\u001b[1;32m----> 2\u001b[1;33m \u001b[0mchisquare\u001b[0m\u001b[1;33m(\u001b[0m\u001b[0mmhi_unemp\u001b[0m\u001b[1;33m,\u001b[0m \u001b[0mmhi_emp\u001b[0m\u001b[1;33m)\u001b[0m\u001b[1;33m\u001b[0m\u001b[1;33m\u001b[0m\u001b[0m\n\u001b[0m",
      "\u001b[1;32m~\\anaconda3\\lib\\site-packages\\scipy\\stats\\stats.py\u001b[0m in \u001b[0;36mchisquare\u001b[1;34m(f_obs, f_exp, ddof, axis)\u001b[0m\n\u001b[0;32m   6255\u001b[0m \u001b[1;33m\u001b[0m\u001b[0m\n\u001b[0;32m   6256\u001b[0m     \"\"\"\n\u001b[1;32m-> 6257\u001b[1;33m     return power_divergence(f_obs, f_exp=f_exp, ddof=ddof, axis=axis,\n\u001b[0m\u001b[0;32m   6258\u001b[0m                             lambda_=\"pearson\")\n\u001b[0;32m   6259\u001b[0m \u001b[1;33m\u001b[0m\u001b[0m\n",
      "\u001b[1;32m~\\anaconda3\\lib\\site-packages\\scipy\\stats\\stats.py\u001b[0m in \u001b[0;36mpower_divergence\u001b[1;34m(f_obs, f_exp, ddof, axis, lambda_)\u001b[0m\n\u001b[0;32m   6123\u001b[0m     \u001b[1;32mif\u001b[0m \u001b[0mlambda_\u001b[0m \u001b[1;33m==\u001b[0m \u001b[1;36m1\u001b[0m\u001b[1;33m:\u001b[0m\u001b[1;33m\u001b[0m\u001b[1;33m\u001b[0m\u001b[0m\n\u001b[0;32m   6124\u001b[0m         \u001b[1;31m# Pearson's chi-squared statistic\u001b[0m\u001b[1;33m\u001b[0m\u001b[1;33m\u001b[0m\u001b[1;33m\u001b[0m\u001b[0m\n\u001b[1;32m-> 6125\u001b[1;33m         \u001b[0mterms\u001b[0m \u001b[1;33m=\u001b[0m \u001b[1;33m(\u001b[0m\u001b[0mf_obs\u001b[0m\u001b[1;33m.\u001b[0m\u001b[0mastype\u001b[0m\u001b[1;33m(\u001b[0m\u001b[0mnp\u001b[0m\u001b[1;33m.\u001b[0m\u001b[0mfloat64\u001b[0m\u001b[1;33m)\u001b[0m \u001b[1;33m-\u001b[0m \u001b[0mf_exp\u001b[0m\u001b[1;33m)\u001b[0m\u001b[1;33m**\u001b[0m\u001b[1;36m2\u001b[0m \u001b[1;33m/\u001b[0m \u001b[0mf_exp\u001b[0m\u001b[1;33m\u001b[0m\u001b[1;33m\u001b[0m\u001b[0m\n\u001b[0m\u001b[0;32m   6126\u001b[0m     \u001b[1;32melif\u001b[0m \u001b[0mlambda_\u001b[0m \u001b[1;33m==\u001b[0m \u001b[1;36m0\u001b[0m\u001b[1;33m:\u001b[0m\u001b[1;33m\u001b[0m\u001b[1;33m\u001b[0m\u001b[0m\n\u001b[0;32m   6127\u001b[0m         \u001b[1;31m# Log-likelihood ratio (i.e. G-test)\u001b[0m\u001b[1;33m\u001b[0m\u001b[1;33m\u001b[0m\u001b[1;33m\u001b[0m\u001b[0m\n",
      "\u001b[1;31mValueError\u001b[0m: operands could not be broadcast together with shapes (86,) (248,) "
     ]
    }
   ],
   "metadata": {}
  },
  {
   "cell_type": "code",
   "execution_count": 16,
   "source": [
    "#from matplotlib_venn import venn2\r\n",
    "mhi_mi = df.loc[df[\"Mental_Illness\"] == 1][\"Mental_Health_Index\"]\r\n",
    "\r\n",
    "mhi_nmi = df.loc[df[\"Mental_Illness\"] == 0][\"Mental_Health_Index\"]\r\n",
    "data = [mhi_mi, mhi_nmi]\r\n",
    "\r\n",
    "plt.boxplot(data, labels=[\"mhi_mi\", \"mhi_nmi\"])"
   ],
   "outputs": [
    {
     "output_type": "execute_result",
     "data": {
      "text/plain": [
       "{'whiskers': [<matplotlib.lines.Line2D at 0x27419e98730>,\n",
       "  <matplotlib.lines.Line2D at 0x27419e98970>,\n",
       "  <matplotlib.lines.Line2D at 0x27419ea6a00>,\n",
       "  <matplotlib.lines.Line2D at 0x27419ea6be0>],\n",
       " 'caps': [<matplotlib.lines.Line2D at 0x27419e9f160>,\n",
       "  <matplotlib.lines.Line2D at 0x27419e9fa60>,\n",
       "  <matplotlib.lines.Line2D at 0x27419ea66d0>,\n",
       "  <matplotlib.lines.Line2D at 0x27419ea6970>],\n",
       " 'boxes': [<matplotlib.lines.Line2D at 0x27419e98490>,\n",
       "  <matplotlib.lines.Line2D at 0x27419e9fc70>],\n",
       " 'medians': [<matplotlib.lines.Line2D at 0x27419e9f340>,\n",
       "  <matplotlib.lines.Line2D at 0x27419eb4910>],\n",
       " 'fliers': [<matplotlib.lines.Line2D at 0x27419e9f9d0>,\n",
       "  <matplotlib.lines.Line2D at 0x27419eb4970>],\n",
       " 'means': []}"
      ]
     },
     "metadata": {},
     "execution_count": 16
    },
    {
     "output_type": "display_data",
     "data": {
      "image/png": "[encoded data removed]",
      "text/plain": [
       "<Figure size 432x288 with 1 Axes>"
      ]
     },
     "metadata": {
      "needs_background": "light"
     }
    }
   ],
   "metadata": {}
  },
  {
   "cell_type": "code",
   "execution_count": 38,
   "source": [
    "print(mhi_mi.max())\r\n",
    "print(mhi_mi.min())\r\n",
    "print(mhi_mi.mean())\r\n",
    "print(mhi_mi.median())\r\n",
    "quartiles = mhi_mi.quantile([.25,.5,.75])\r\n",
    "print(quartiles)"
   ],
   "outputs": [
    {
     "output_type": "stream",
     "name": "stdout",
     "text": [
      "7.0\n",
      "0.0\n",
      "3.430379746835443\n",
      "3.0\n",
      "0.25    2.0\n",
      "0.50    3.0\n",
      "0.75    5.0\n",
      "Name: Mental_Health_Index, dtype: float64\n"
     ]
    }
   ],
   "metadata": {}
  },
  {
   "cell_type": "code",
   "execution_count": 39,
   "source": [
    "df_mhi = df[[\"Mental_Health_Index\", \"Unemployed\"]]\r\n",
    "df_mhi.boxplot(by = \"Unemployed\")\r\n",
    "plt.title(\"Mental Health Index Distribution by Unemployment\")\r\n",
    "plt.suptitle(\"\")\r\n",
    "plt.ylabel(\"Mental Health Index\")\r\n",
    "plt.xlabel(\"Unemployment Status\")\r\n",
    "plt.xticks([1,2], labels = [\"Employed\", \"Not Employed\"], rotation = 90)"
   ],
   "outputs": [
    {
     "output_type": "execute_result",
     "data": {
      "text/plain": [
       "([<matplotlib.axis.XTick at 0x27419e53040>,\n",
       "  <matplotlib.axis.XTick at 0x27419e531f0>],\n",
       " [Text(1, 0, 'Employed'), Text(2, 0, 'Not Employed')])"
      ]
     },
     "metadata": {},
     "execution_count": 39
    },
    {
     "output_type": "display_data",
     "data": {
      "image/png": "[encoded data removed]",
      "text/plain": [
       "<Figure size 432x288 with 1 Axes>"
      ]
     },
     "metadata": {
      "needs_background": "light"
     }
    }
   ],
   "metadata": {}
  },
  {
   "cell_type": "code",
   "execution_count": 40,
   "source": [
    "df_mhi = df[[\"Mental_Health_Index\", \"Mental_Illness\"]]\r\n",
    "df_mhi.boxplot(by = \"Mental_Illness\")\r\n",
    "\r\n",
    "plt.title(\"Mental Health Index Distribution by Mental Illness Status\")\r\n",
    "plt.suptitle(\"\")\r\n",
    "plt.ylabel(\"Mental Health Index\")\r\n",
    "plt.xlabel(\"Mental Illness Status\")\r\n",
    "plt.xticks([1,2], labels = [\"Not Diagnosed\", \"Diagnosed\"], rotation = 90)"
   ],
   "outputs": [
    {
     "output_type": "execute_result",
     "data": {
      "text/plain": [
       "([<matplotlib.axis.XTick at 0x2741ad121c0>,\n",
       "  <matplotlib.axis.XTick at 0x2741a99b8b0>],\n",
       " [Text(1, 0, 'Not Diagnosed'), Text(2, 0, 'Diagnosed')])"
      ]
     },
     "metadata": {},
     "execution_count": 40
    },
    {
     "output_type": "display_data",
     "data": {
      "image/png": "[encoded data removed]",
      "text/plain": [
       "<Figure size 432x288 with 1 Axes>"
      ]
     },
     "metadata": {
      "needs_background": "light"
     }
    }
   ],
   "metadata": {}
  },
  {
   "cell_type": "code",
   "execution_count": null,
   "source": [],
   "outputs": [],
   "metadata": {}
  }
 ],
 "metadata": {
  "orig_nbformat": 4,
  "language_info": {
   "name": "python",
   "version": "3.8.8",
   "mimetype": "text/x-python",
   "codemirror_mode": {
    "name": "ipython",
    "version": 3
   },
   "pygments_lexer": "ipython3",
   "nbconvert_exporter": "python",
   "file_extension": ".py"
  },
  "kernelspec": {
   "name": "python3",
   "display_name": "Python 3.8.8 64-bit ('base': conda)"
  },
  "interpreter": {
   "hash": "d4e63f3e0293a2232315b562a3440085180ee994c93df8d1653913efa84891ce"
  }
 },
 "nbformat": 4,
 "nbformat_minor": 2
}